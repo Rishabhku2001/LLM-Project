{
  "cells": [
    {
      "cell_type": "code",
      "execution_count": null,
      "metadata": {
        "colab": {
          "base_uri": "https://localhost:8080/"
        },
        "id": "HLmOU_f4_Ebo",
        "outputId": "ec99693c-aa4b-4f80-babe-b8750d592de7"
      },
      "outputs": [
        {
          "output_type": "stream",
          "name": "stdout",
          "text": [
            "Requirement already satisfied: faiss-cpu in /usr/local/lib/python3.10/dist-packages (1.8.0)\n",
            "Requirement already satisfied: numpy in /usr/local/lib/python3.10/dist-packages (from faiss-cpu) (1.25.2)\n",
            "\u001b[33mWARNING: Running pip as the 'root' user can result in broken permissions and conflicting behaviour with the system package manager. It is recommended to use a virtual environment instead: https://pip.pypa.io/warnings/venv\u001b[0m\u001b[33m\n",
            "\u001b[0mRequirement already satisfied: langchain in /usr/local/lib/python3.10/dist-packages (0.1.11)\n",
            "Requirement already satisfied: PyYAML>=5.3 in /usr/local/lib/python3.10/dist-packages (from langchain) (6.0.1)\n",
            "Requirement already satisfied: SQLAlchemy<3,>=1.4 in /usr/local/lib/python3.10/dist-packages (from langchain) (2.0.28)\n",
            "Requirement already satisfied: aiohttp<4.0.0,>=3.8.3 in /usr/local/lib/python3.10/dist-packages (from langchain) (3.9.3)\n",
            "Requirement already satisfied: async-timeout<5.0.0,>=4.0.0 in /usr/local/lib/python3.10/dist-packages (from langchain) (4.0.3)\n",
            "Requirement already satisfied: dataclasses-json<0.7,>=0.5.7 in /usr/local/lib/python3.10/dist-packages (from langchain) (0.6.4)\n",
            "Requirement already satisfied: jsonpatch<2.0,>=1.33 in /usr/local/lib/python3.10/dist-packages (from langchain) (1.33)\n",
            "Requirement already satisfied: langchain-community<0.1,>=0.0.25 in /usr/local/lib/python3.10/dist-packages (from langchain) (0.0.27)\n",
            "Requirement already satisfied: langchain-core<0.2,>=0.1.29 in /usr/local/lib/python3.10/dist-packages (from langchain) (0.1.30)\n",
            "Requirement already satisfied: langchain-text-splitters<0.1,>=0.0.1 in /usr/local/lib/python3.10/dist-packages (from langchain) (0.0.1)\n",
            "Requirement already satisfied: langsmith<0.2.0,>=0.1.17 in /usr/local/lib/python3.10/dist-packages (from langchain) (0.1.22)\n",
            "Requirement already satisfied: numpy<2,>=1 in /usr/local/lib/python3.10/dist-packages (from langchain) (1.25.2)\n",
            "Requirement already satisfied: pydantic<3,>=1 in /usr/local/lib/python3.10/dist-packages (from langchain) (2.6.3)\n",
            "Requirement already satisfied: requests<3,>=2 in /usr/local/lib/python3.10/dist-packages (from langchain) (2.31.0)\n",
            "Requirement already satisfied: tenacity<9.0.0,>=8.1.0 in /usr/local/lib/python3.10/dist-packages (from langchain) (8.2.3)\n",
            "Requirement already satisfied: aiosignal>=1.1.2 in /usr/local/lib/python3.10/dist-packages (from aiohttp<4.0.0,>=3.8.3->langchain) (1.3.1)\n",
            "Requirement already satisfied: attrs>=17.3.0 in /usr/local/lib/python3.10/dist-packages (from aiohttp<4.0.0,>=3.8.3->langchain) (23.2.0)\n",
            "Requirement already satisfied: frozenlist>=1.1.1 in /usr/local/lib/python3.10/dist-packages (from aiohttp<4.0.0,>=3.8.3->langchain) (1.4.1)\n",
            "Requirement already satisfied: multidict<7.0,>=4.5 in /usr/local/lib/python3.10/dist-packages (from aiohttp<4.0.0,>=3.8.3->langchain) (6.0.5)\n",
            "Requirement already satisfied: yarl<2.0,>=1.0 in /usr/local/lib/python3.10/dist-packages (from aiohttp<4.0.0,>=3.8.3->langchain) (1.9.4)\n",
            "Requirement already satisfied: marshmallow<4.0.0,>=3.18.0 in /usr/local/lib/python3.10/dist-packages (from dataclasses-json<0.7,>=0.5.7->langchain) (3.21.1)\n",
            "Requirement already satisfied: typing-inspect<1,>=0.4.0 in /usr/local/lib/python3.10/dist-packages (from dataclasses-json<0.7,>=0.5.7->langchain) (0.9.0)\n",
            "Requirement already satisfied: jsonpointer>=1.9 in /usr/local/lib/python3.10/dist-packages (from jsonpatch<2.0,>=1.33->langchain) (2.4)\n",
            "Requirement already satisfied: anyio<5,>=3 in /usr/local/lib/python3.10/dist-packages (from langchain-core<0.2,>=0.1.29->langchain) (3.7.1)\n",
            "Requirement already satisfied: packaging<24.0,>=23.2 in /usr/local/lib/python3.10/dist-packages (from langchain-core<0.2,>=0.1.29->langchain) (23.2)\n",
            "Requirement already satisfied: orjson<4.0.0,>=3.9.14 in /usr/local/lib/python3.10/dist-packages (from langsmith<0.2.0,>=0.1.17->langchain) (3.9.15)\n",
            "Requirement already satisfied: annotated-types>=0.4.0 in /usr/local/lib/python3.10/dist-packages (from pydantic<3,>=1->langchain) (0.6.0)\n",
            "Requirement already satisfied: pydantic-core==2.16.3 in /usr/local/lib/python3.10/dist-packages (from pydantic<3,>=1->langchain) (2.16.3)\n",
            "Requirement already satisfied: typing-extensions>=4.6.1 in /usr/local/lib/python3.10/dist-packages (from pydantic<3,>=1->langchain) (4.10.0)\n",
            "Requirement already satisfied: charset-normalizer<4,>=2 in /usr/local/lib/python3.10/dist-packages (from requests<3,>=2->langchain) (3.3.2)\n",
            "Requirement already satisfied: idna<4,>=2.5 in /usr/local/lib/python3.10/dist-packages (from requests<3,>=2->langchain) (3.6)\n",
            "Requirement already satisfied: urllib3<3,>=1.21.1 in /usr/local/lib/python3.10/dist-packages (from requests<3,>=2->langchain) (2.0.7)\n",
            "Requirement already satisfied: certifi>=2017.4.17 in /usr/local/lib/python3.10/dist-packages (from requests<3,>=2->langchain) (2024.2.2)\n",
            "Requirement already satisfied: greenlet!=0.4.17 in /usr/local/lib/python3.10/dist-packages (from SQLAlchemy<3,>=1.4->langchain) (3.0.3)\n",
            "Requirement already satisfied: sniffio>=1.1 in /usr/local/lib/python3.10/dist-packages (from anyio<5,>=3->langchain-core<0.2,>=0.1.29->langchain) (1.3.1)\n",
            "Requirement already satisfied: exceptiongroup in /usr/local/lib/python3.10/dist-packages (from anyio<5,>=3->langchain-core<0.2,>=0.1.29->langchain) (1.2.0)\n",
            "Requirement already satisfied: mypy-extensions>=0.3.0 in /usr/local/lib/python3.10/dist-packages (from typing-inspect<1,>=0.4.0->dataclasses-json<0.7,>=0.5.7->langchain) (1.0.0)\n",
            "\u001b[33mWARNING: Running pip as the 'root' user can result in broken permissions and conflicting behaviour with the system package manager. It is recommended to use a virtual environment instead: https://pip.pypa.io/warnings/venv\u001b[0m\u001b[33m\n",
            "\u001b[0mRequirement already satisfied: langchain-openai in /usr/local/lib/python3.10/dist-packages (0.0.8)\n",
            "Requirement already satisfied: langchain-core<0.2.0,>=0.1.27 in /usr/local/lib/python3.10/dist-packages (from langchain-openai) (0.1.30)\n",
            "Requirement already satisfied: openai<2.0.0,>=1.10.0 in /usr/local/lib/python3.10/dist-packages (from langchain-openai) (1.13.3)\n",
            "Requirement already satisfied: tiktoken<1,>=0.5.2 in /usr/local/lib/python3.10/dist-packages (from langchain-openai) (0.6.0)\n",
            "Requirement already satisfied: PyYAML>=5.3 in /usr/local/lib/python3.10/dist-packages (from langchain-core<0.2.0,>=0.1.27->langchain-openai) (6.0.1)\n",
            "Requirement already satisfied: anyio<5,>=3 in /usr/local/lib/python3.10/dist-packages (from langchain-core<0.2.0,>=0.1.27->langchain-openai) (3.7.1)\n",
            "Requirement already satisfied: jsonpatch<2.0,>=1.33 in /usr/local/lib/python3.10/dist-packages (from langchain-core<0.2.0,>=0.1.27->langchain-openai) (1.33)\n",
            "Requirement already satisfied: langsmith<0.2.0,>=0.1.0 in /usr/local/lib/python3.10/dist-packages (from langchain-core<0.2.0,>=0.1.27->langchain-openai) (0.1.22)\n",
            "Requirement already satisfied: packaging<24.0,>=23.2 in /usr/local/lib/python3.10/dist-packages (from langchain-core<0.2.0,>=0.1.27->langchain-openai) (23.2)\n",
            "Requirement already satisfied: pydantic<3,>=1 in /usr/local/lib/python3.10/dist-packages (from langchain-core<0.2.0,>=0.1.27->langchain-openai) (2.6.3)\n",
            "Requirement already satisfied: requests<3,>=2 in /usr/local/lib/python3.10/dist-packages (from langchain-core<0.2.0,>=0.1.27->langchain-openai) (2.31.0)\n",
            "Requirement already satisfied: tenacity<9.0.0,>=8.1.0 in /usr/local/lib/python3.10/dist-packages (from langchain-core<0.2.0,>=0.1.27->langchain-openai) (8.2.3)\n",
            "Requirement already satisfied: distro<2,>=1.7.0 in /usr/lib/python3/dist-packages (from openai<2.0.0,>=1.10.0->langchain-openai) (1.7.0)\n",
            "Requirement already satisfied: httpx<1,>=0.23.0 in /usr/local/lib/python3.10/dist-packages (from openai<2.0.0,>=1.10.0->langchain-openai) (0.27.0)\n",
            "Requirement already satisfied: sniffio in /usr/local/lib/python3.10/dist-packages (from openai<2.0.0,>=1.10.0->langchain-openai) (1.3.1)\n",
            "Requirement already satisfied: tqdm>4 in /usr/local/lib/python3.10/dist-packages (from openai<2.0.0,>=1.10.0->langchain-openai) (4.66.2)\n",
            "Requirement already satisfied: typing-extensions<5,>=4.7 in /usr/local/lib/python3.10/dist-packages (from openai<2.0.0,>=1.10.0->langchain-openai) (4.10.0)\n",
            "Requirement already satisfied: regex>=2022.1.18 in /usr/local/lib/python3.10/dist-packages (from tiktoken<1,>=0.5.2->langchain-openai) (2023.12.25)\n",
            "Requirement already satisfied: idna>=2.8 in /usr/local/lib/python3.10/dist-packages (from anyio<5,>=3->langchain-core<0.2.0,>=0.1.27->langchain-openai) (3.6)\n",
            "Requirement already satisfied: exceptiongroup in /usr/local/lib/python3.10/dist-packages (from anyio<5,>=3->langchain-core<0.2.0,>=0.1.27->langchain-openai) (1.2.0)\n",
            "Requirement already satisfied: certifi in /usr/local/lib/python3.10/dist-packages (from httpx<1,>=0.23.0->openai<2.0.0,>=1.10.0->langchain-openai) (2024.2.2)\n",
            "Requirement already satisfied: httpcore==1.* in /usr/local/lib/python3.10/dist-packages (from httpx<1,>=0.23.0->openai<2.0.0,>=1.10.0->langchain-openai) (1.0.4)\n",
            "Requirement already satisfied: h11<0.15,>=0.13 in /usr/local/lib/python3.10/dist-packages (from httpcore==1.*->httpx<1,>=0.23.0->openai<2.0.0,>=1.10.0->langchain-openai) (0.14.0)\n",
            "Requirement already satisfied: jsonpointer>=1.9 in /usr/local/lib/python3.10/dist-packages (from jsonpatch<2.0,>=1.33->langchain-core<0.2.0,>=0.1.27->langchain-openai) (2.4)\n",
            "Requirement already satisfied: orjson<4.0.0,>=3.9.14 in /usr/local/lib/python3.10/dist-packages (from langsmith<0.2.0,>=0.1.0->langchain-core<0.2.0,>=0.1.27->langchain-openai) (3.9.15)\n",
            "Requirement already satisfied: annotated-types>=0.4.0 in /usr/local/lib/python3.10/dist-packages (from pydantic<3,>=1->langchain-core<0.2.0,>=0.1.27->langchain-openai) (0.6.0)\n",
            "Requirement already satisfied: pydantic-core==2.16.3 in /usr/local/lib/python3.10/dist-packages (from pydantic<3,>=1->langchain-core<0.2.0,>=0.1.27->langchain-openai) (2.16.3)\n",
            "Requirement already satisfied: charset-normalizer<4,>=2 in /usr/local/lib/python3.10/dist-packages (from requests<3,>=2->langchain-core<0.2.0,>=0.1.27->langchain-openai) (3.3.2)\n",
            "Requirement already satisfied: urllib3<3,>=1.21.1 in /usr/local/lib/python3.10/dist-packages (from requests<3,>=2->langchain-core<0.2.0,>=0.1.27->langchain-openai) (2.0.7)\n",
            "\u001b[33mWARNING: Running pip as the 'root' user can result in broken permissions and conflicting behaviour with the system package manager. It is recommended to use a virtual environment instead: https://pip.pypa.io/warnings/venv\u001b[0m\u001b[33m\n",
            "\u001b[0m"
          ]
        }
      ],
      "source": [
        "!pip install faiss-cpu\n",
        "!pip install langchain\n",
        "!pip install langchain-openai"
      ]
    },
    {
      "cell_type": "code",
      "execution_count": null,
      "metadata": {
        "colab": {
          "base_uri": "https://localhost:8080/"
        },
        "id": "01ubxtmN05A4",
        "outputId": "9594a35e-e057-4e83-a49c-bcd127229a65"
      },
      "outputs": [
        {
          "output_type": "stream",
          "name": "stdout",
          "text": [
            "Requirement already satisfied: pip in /usr/local/lib/python3.10/dist-packages (24.0)\n",
            "\u001b[33mWARNING: Running pip as the 'root' user can result in broken permissions and conflicting behaviour with the system package manager. It is recommended to use a virtual environment instead: https://pip.pypa.io/warnings/venv\u001b[0m\u001b[33m\n",
            "\u001b[0m\u001b[33mWARNING: Running pip as the 'root' user can result in broken permissions and conflicting behaviour with the system package manager. It is recommended to use a virtual environment instead: https://pip.pypa.io/warnings/venv\u001b[0m\u001b[33m\n",
            "\u001b[0m\u001b[33mWARNING: Running pip as the 'root' user can result in broken permissions and conflicting behaviour with the system package manager. It is recommended to use a virtual environment instead: https://pip.pypa.io/warnings/venv\u001b[0m\u001b[33m\n",
            "\u001b[0m"
          ]
        }
      ],
      "source": [
        "%pip install --upgrade pip\n",
        "%pip install --disable-pip-version-check \\\n",
        "    torch==1.13.1 \\\n",
        "    torchdata==0.5.1 --quiet\n",
        "\n",
        "%pip install \\\n",
        "    transformers==4.27.2 \\\n",
        "    datasets==2.11.0 \\\n",
        "    evaluate==0.4.0 \\\n",
        "    rouge_score==0.1.2 \\\n",
        "    loralib==0.1.1 \\\n",
        "    peft==0.3.0 --quiet"
      ]
    },
    {
      "cell_type": "code",
      "execution_count": null,
      "metadata": {
        "id": "mXi3JVL51xOp"
      },
      "outputs": [],
      "source": [
        "from datasets import load_dataset\n",
        "from transformers import AutoModelForSeq2SeqLM, AutoTokenizer, GenerationConfig, TrainingArguments, Trainer\n",
        "import torch\n",
        "import time\n",
        "import evaluate\n",
        "import pandas as pd\n",
        "import numpy as np\n",
        "import faiss\n",
        "import ast"
      ]
    },
    {
      "cell_type": "code",
      "execution_count": null,
      "metadata": {
        "id": "TjQ4ErVYBqLn"
      },
      "outputs": [],
      "source": [
        "from langchain_community.vectorstores import FAISS\n",
        "from langchain_openai import OpenAIEmbeddings"
      ]
    },
    {
      "cell_type": "code",
      "execution_count": null,
      "metadata": {
        "colab": {
          "base_uri": "https://localhost:8080/"
        },
        "id": "8fFA0Tha0kPy",
        "outputId": "d861fefc-e39f-481e-ad5c-fffe5d28e0eb"
      },
      "outputs": [
        {
          "name": "stdout",
          "output_type": "stream",
          "text": [
            "OpenAI API Key:··········\n"
          ]
        }
      ],
      "source": [
        "import os\n",
        "import getpass\n",
        "\n",
        "os.environ['OPENAI_API_KEY'] = getpass.getpass('OpenAI API Key:')"
      ]
    },
    {
      "cell_type": "code",
      "execution_count": null,
      "metadata": {
        "id": "BF8QKd1dxfrq"
      },
      "outputs": [],
      "source": [
        "embeddings = OpenAIEmbeddings()"
      ]
    },
    {
      "cell_type": "code",
      "source": [
        "db = FAISS.load_local(\"/content/drive/MyDrive/Address_embedded\", embeddings,allow_dangerous_deserialization=True)"
      ],
      "metadata": {
        "id": "7-p1QnoPo793"
      },
      "execution_count": null,
      "outputs": []
    },
    {
      "cell_type": "code",
      "execution_count": null,
      "metadata": {
        "id": "WTJnKJnFx3Fu"
      },
      "outputs": [],
      "source": [
        "query = \"Give me details about the resident at Swarnadhama Nagar, Old Bowenpally, Telangana 500011.\"\n",
        "docs = db.similarity_search(query)"
      ]
    },
    {
      "cell_type": "code",
      "execution_count": null,
      "metadata": {
        "colab": {
          "base_uri": "https://localhost:8080/"
        },
        "id": "VotG_0P-8Wwz",
        "outputId": "3a9a338b-140b-486b-d05a-98fc48f4a7a6"
      },
      "outputs": [
        {
          "output_type": "execute_result",
          "data": {
            "text/plain": [
              "[Document(page_content='Consider the following information for the address of KONDAM SRIDHAR REDDY:\\n- House Number: 8-7-177/50/40,41 FLAT NO 201\\n- Building Name: KAMALA RESIDENCY\\n- Street Name: SWARNADHAMA NAGAR\\n- Locality: OLD BOWENPALLY\\n- Landmark: VENKATESHWARA TEMPLE\\n- State: Telangana\\n- District: Medchal-Malkajgiri\\n- Pin Code: 500011'),\n",
              " Document(page_content='Consider the following information for the address of BONDUGULA  SUMAN REDDY:\\n- House Number: 5-20/1\\n- Building Name: SWATHI RESIDENCY\\n- Street Name: ROAD NO 1, BUDDHA NAGAR COLONY\\n- Locality: BODUPPAL\\n- Landmark: NA\\n- State: Telangana\\n- District: Ranga Reddy\\n- Pin Code: 500092'),\n",
              " Document(page_content='Consider the following information for the address of M/s K S R CONSTRUCTIONS:\\n- Mandal: \\n- Village/City/Town: OLD BOWENPALLY\\n- Street: OLD BOWENPALLY VILLAGE\\n- Locality: 500011\\n- State: Medchal-Malkajgiri\\n- District: Balanagar\\n- Pin Code:'),\n",
              " Document(page_content='Consider the following information for the address of SAHOO  KALPANA:\\n- House Number: PLOT 12\\n- Building Name: JAGRUTHI SHINES\\n- Street Name: NAGIREDDY COLONY\\n- Locality: OLD BOWENPALLY\\n- Landmark: NEAR SR DG SCHOOL\\n- State: Telangana\\n- District: Hyderabad\\n- Pin Code: 500011')]"
            ]
          },
          "metadata": {},
          "execution_count": 17
        }
      ],
      "source": [
        "docs"
      ]
    },
    {
      "cell_type": "code",
      "execution_count": null,
      "metadata": {
        "colab": {
          "base_uri": "https://localhost:8080/"
        },
        "id": "N08BFFjgyooi",
        "outputId": "28877e45-327b-4dc7-868a-30bfc021e2e5"
      },
      "outputs": [
        {
          "output_type": "stream",
          "name": "stdout",
          "text": [
            "Consider the following information for the address of KONDAM SRIDHAR REDDY:\n",
            "- House Number: 8-7-177/50/40,41 FLAT NO 201\n",
            "- Building Name: KAMALA RESIDENCY\n",
            "- Street Name: SWARNADHAMA NAGAR\n",
            "- Locality: OLD BOWENPALLY\n",
            "- Landmark: VENKATESHWARA TEMPLE\n",
            "- State: Telangana\n",
            "- District: Medchal-Malkajgiri\n",
            "- Pin Code: 500011\n"
          ]
        }
      ],
      "source": [
        "print(docs[0].page_content)"
      ]
    },
    {
      "cell_type": "code",
      "execution_count": null,
      "metadata": {
        "colab": {
          "base_uri": "https://localhost:8080/",
          "height": 333,
          "referenced_widgets": [
            "732cb25c7b744f13883a90a7a5956a13",
            "606f46caf7824c0f8ad96c063f82126c",
            "b72617e2978a43da9064e715ab350cd7",
            "a616cff8b35b498f8c892c76d345ef6c",
            "e43fea51dcc74c3fa2041120d0168aa7",
            "4401c2510da84c9caf9cb4beef50f498",
            "13b93af953f849df84b38d97ef714b75",
            "7ee110ca35de44cebf9be8617283c855",
            "cee2939d376c4a3693e443f38ac65dec",
            "e362354ef5024864af7d07ddb37846d1",
            "58b45724256a40a0a6dee98923b8f9b7",
            "4eb01c7ecbad4beba11e3b51c36ed06d",
            "bb78c5db12c745fd856faffc1e3abe07",
            "adb55633a5ed4a2f8386f8596c9e521c",
            "ea7cd573ce2c453e970391adcd9fef86",
            "1e5203d3f69c4a1b971e795ecc8d0260",
            "d931f4530a6c479b92e7c62f89861125",
            "69a4eadc4710412da1d1aa8d74684978",
            "db541302927e4631a2ed1c377fc9ca30",
            "e7b694551ba44403941d4f8073664b70",
            "368f14814cee41d8914f46215580e6c6",
            "28b818bda2eb4999af6e2892e0c39337",
            "b36529309ff04be79ae442ae76c63343",
            "2c1db10607b54364a38a4420ba69fe5a",
            "58409e6cbb094ad99092ae693fa3db91",
            "bce98fd5e05d48378b753ef12b3b72fd",
            "3243d6607aa5442b94f119775f64dc1c",
            "ef94df3951184c95beeca989104d8555",
            "9d9bb503c14547f5933a413fac2bccb9",
            "74cd29132b5b44feac3c963e8a22b57b",
            "5e1cba3d58ad4f29b0f3cf241e8faee8",
            "dfd18ca6200f481a847e807b43b36d1b",
            "c25572e51b654ad1b8d6ddda0c806460",
            "7b9f4d1e3ee440a2b55016403b90e168",
            "b39858d8418d43ec80665a652a1bd2ce",
            "901f8f461aa3493a915d0b12591f05a2",
            "ac050e3253b544f9896703f0b536bb58",
            "edcdf54df09346d3a5f92d30378143ce",
            "bdcfd565ccc44c27b4e0c9e80a7d478c",
            "dca57b8322a741f7b0c33770bf905ff7",
            "879a0b101bc1470ab6fe254fbb1f0a9e",
            "1ac2688dd1be472e95a0f3751606eea3",
            "feac6124b10741fc9c19627cc827e6cc",
            "14bab3af728f497c83253eaef50bb2be",
            "20a3a978eebf45c6a2781dad97f5e358",
            "f1fc2b60cf72404aa20e1e371e070676",
            "b54f698479bc41a9add65852e9679149",
            "c743dd5a911d4cac9e6804a460d5a87e",
            "ebc77e533f3f4a019039d4b9caf4e608",
            "9e4e116e03434cba8896ce04e8218a92",
            "550b1b3daa774adab13e8e9213d97ba2",
            "dec117556d05477e84c8bd02fd88fdcc",
            "6dc392635b544c248d0933b318cf5a48",
            "a91adef4cd1a44d99b114c432cabce14",
            "686cfae80f074820812103ec67a3e1d0",
            "d6ddb855f0c64aa58d6c3a19b01117bf",
            "621443b8e9734e4e850f24eb8f143391",
            "f1de002fb1594d23b5eb9101e21a68fa",
            "a9ce46784aa34887a049945dc67176fc",
            "91d35a8e1db9499cac94fc3f2df684c1",
            "efb9cf11e9aa47b8b080ad08abbef715",
            "ab4be75376a74549be242255a8b394db",
            "801b4f38cdfc4d87b72bdc593d2f3db0",
            "e98973077406426bb9e851373c9dcc2b",
            "7b48297de4164527a0e2b5feed13b9f5",
            "0e3b66b85e9e4e789aee5c3cc5cbce55"
          ]
        },
        "id": "us0Dqy7OzBdi",
        "outputId": "3037dfe8-06bb-4eb4-e557-6bd6955f457e"
      },
      "outputs": [
        {
          "output_type": "stream",
          "name": "stderr",
          "text": [
            "/usr/local/lib/python3.10/dist-packages/huggingface_hub/utils/_token.py:88: UserWarning: \n",
            "The secret `HF_TOKEN` does not exist in your Colab secrets.\n",
            "To authenticate with the Hugging Face Hub, create a token in your settings tab (https://huggingface.co/settings/tokens), set it as secret in your Google Colab and restart your session.\n",
            "You will be able to reuse this secret in all of your notebooks.\n",
            "Please note that authentication is recommended but still optional to access public models or datasets.\n",
            "  warnings.warn(\n"
          ]
        },
        {
          "output_type": "display_data",
          "data": {
            "text/plain": [
              "spiece.model:   0%|          | 0.00/792k [00:00<?, ?B/s]"
            ],
            "application/vnd.jupyter.widget-view+json": {
              "version_major": 2,
              "version_minor": 0,
              "model_id": "732cb25c7b744f13883a90a7a5956a13"
            }
          },
          "metadata": {}
        },
        {
          "output_type": "display_data",
          "data": {
            "text/plain": [
              "special_tokens_map.json:   0%|          | 0.00/2.20k [00:00<?, ?B/s]"
            ],
            "application/vnd.jupyter.widget-view+json": {
              "version_major": 2,
              "version_minor": 0,
              "model_id": "4eb01c7ecbad4beba11e3b51c36ed06d"
            }
          },
          "metadata": {}
        },
        {
          "output_type": "display_data",
          "data": {
            "text/plain": [
              "tokenizer_config.json:   0%|          | 0.00/2.54k [00:00<?, ?B/s]"
            ],
            "application/vnd.jupyter.widget-view+json": {
              "version_major": 2,
              "version_minor": 0,
              "model_id": "b36529309ff04be79ae442ae76c63343"
            }
          },
          "metadata": {}
        },
        {
          "output_type": "display_data",
          "data": {
            "text/plain": [
              "config.json:   0%|          | 0.00/662 [00:00<?, ?B/s]"
            ],
            "application/vnd.jupyter.widget-view+json": {
              "version_major": 2,
              "version_minor": 0,
              "model_id": "7b9f4d1e3ee440a2b55016403b90e168"
            }
          },
          "metadata": {}
        },
        {
          "output_type": "display_data",
          "data": {
            "text/plain": [
              "model.safetensors:   0%|          | 0.00/3.13G [00:00<?, ?B/s]"
            ],
            "application/vnd.jupyter.widget-view+json": {
              "version_major": 2,
              "version_minor": 0,
              "model_id": "20a3a978eebf45c6a2781dad97f5e358"
            }
          },
          "metadata": {}
        },
        {
          "output_type": "display_data",
          "data": {
            "text/plain": [
              "generation_config.json:   0%|          | 0.00/147 [00:00<?, ?B/s]"
            ],
            "application/vnd.jupyter.widget-view+json": {
              "version_major": 2,
              "version_minor": 0,
              "model_id": "d6ddb855f0c64aa58d6c3a19b01117bf"
            }
          },
          "metadata": {}
        }
      ],
      "source": [
        "from transformers import T5ForConditionalGeneration, T5Tokenizer\n",
        "\n",
        "# Load Flan model\n",
        "model_name = \"google/flan-t5-large\"\n",
        "tokenizer = T5Tokenizer.from_pretrained(model_name)\n",
        "model = T5ForConditionalGeneration.from_pretrained(model_name)"
      ]
    },
    {
      "cell_type": "code",
      "execution_count": null,
      "metadata": {
        "id": "f6gRwFOC2Nrn"
      },
      "outputs": [],
      "source": [
        "def query_template(information,query):\n",
        "  prompt_db = f\"\"\"\n",
        "  Query Analysis:\n",
        "\n",
        "Query Analysis:\n",
        "\n",
        "Query: {query}\n",
        "\n",
        "{information}\n",
        "\n",
        "Instructions: Generate the output based on the provided information.\n",
        "\n",
        "Output:\n",
        "\"\"\"\n",
        "  return prompt_db"
      ]
    },
    {
      "cell_type": "code",
      "execution_count": null,
      "metadata": {
        "id": "kQgjTWXk2e5E"
      },
      "outputs": [],
      "source": [
        "dash_line = '-'.join('' for x in range(100))\n",
        "def Q_A_address(query):\n",
        "  entities=[]\n",
        "  docs = db.similarity_search(query)\n",
        "  entities.append(docs[0].page_content)\n",
        "\n",
        "  str =\"\"\n",
        "  for i in entities:\n",
        "    prompt = query_template(i,query)\n",
        "    input_ids = tokenizer.encode(prompt, return_tensors=\"pt\")\n",
        "    output = model.generate(input_ids)\n",
        "    response = tokenizer.decode(output[0], skip_special_tokens=True)\n",
        "    print(dash_line)\n",
        "    print(\"QUERY:\",query)\n",
        "    print('Similarity Search:-',i)\n",
        "    print(\"RESPONSE:\", response)\n",
        "    # str =dash_line+\"\\n\"+\"QUERY:\"+query+\"\\n\"+'Similarity Search:'+i+\"\\n\"+\"RESPONSE:\"+ response+\"\\n\"\n",
        "    str = response\n",
        "  return str"
      ]
    },
    {
      "cell_type": "code",
      "execution_count": null,
      "metadata": {
        "colab": {
          "base_uri": "https://localhost:8080/",
          "height": 298
        },
        "id": "q4FR-B-V7CAD",
        "outputId": "af223e90-eee6-43b1-a8c5-f9b25983554a"
      },
      "outputs": [
        {
          "output_type": "stream",
          "name": "stderr",
          "text": [
            "/usr/local/lib/python3.10/dist-packages/transformers/generation/utils.py:1288: UserWarning: Using `max_length`'s default (20) to control the generation length. This behaviour is deprecated and will be removed from the config in v5 of Transformers -- we recommend using `max_new_tokens` to control the maximum length of the generation.\n",
            "  warnings.warn(\n"
          ]
        },
        {
          "output_type": "stream",
          "name": "stdout",
          "text": [
            "---------------------------------------------------------------------------------------------------\n",
            "QUERY: Address of upala?\n",
            "Similarity Search:- Consider the following information for the address of Uppala  Srinivas:\n",
            "- House Number: 2-3-906/1\n",
            "- Building Name: Plot No 189\n",
            "- Street Name: Road No 5\n",
            "- Locality: Co Op Bank Colony\n",
            "- Landmark: Shiva Function Hall\n",
            "- State: Telangana\n",
            "- District: Medchal-Malkajgiri\n",
            "- Pin Code: 500068\n",
            "RESPONSE: Uppala Srinivas is located at Co Op Bank Colony, Medchal-\n"
          ]
        },
        {
          "output_type": "execute_result",
          "data": {
            "text/plain": [
              "'Uppala Srinivas is located at Co Op Bank Colony, Medchal-'"
            ],
            "application/vnd.google.colaboratory.intrinsic+json": {
              "type": "string"
            }
          },
          "metadata": {},
          "execution_count": 22
        }
      ],
      "source": [
        "Q_A_address(\"Address of upala?\")"
      ]
    },
    {
      "cell_type": "code",
      "execution_count": null,
      "metadata": {
        "id": "7eChStn958yN"
      },
      "outputs": [],
      "source": [
        "old_queries_address = [\n",
        "    \"Can you provide the current address of Vamshi Constructions?\",\n",
        "    \"In which state is the residence of Sri Satya Developers located?\",\n",
        "    \"What is the postal code for Divinehomes's current residence?\",\n",
        "    \"Could you please share the complete address details of Sri Vathsa Homes Pvt Ltd?\",\n",
        "    \"Which state does Sri Sreenivasa Constructions currently reside in?\",\n",
        "    \"What is the address of BSR Developers and Others?\",\n",
        "    \"Do you have the postal code for Devi Developers & Builders's current residence?\",\n",
        "    \"What is the full address of Ektha Prime Lakemont Homes?\",\n",
        "    \"In which state does Ashoka Ventures Rep by M Ashok Vardhan currently reside?\",\n",
        "    \"What is the postal code for Akshay Developers's current residence?\",\n",
        "    \"Can you provide the address details for Agalduty Raju?\",\n",
        "    \"In which state does AV Constructions and Developers currently reside?\",\n",
        "    \"What is the postal code for Vathsalya Constructions's residence?\",\n",
        "    \"Could you please share the complete address of Sreshta Constructions?\",\n",
        "    \"Which state is the current residence of Sri Sai Chakra Developers located in?\",\n",
        "    \"Do you have the postal code for Bricks Infratech LLP's residence?\",\n",
        "    \"What is the address of Eminence Constructions?\",\n",
        "    \"What is the postal code for Rudraksh MegaCorp Private Limited's current residence?\",\n",
        "    \"Could you share the complete address of Sri Sai Ram Projects?\",\n",
        "    \"In which state does AVL Constructions currently reside?\",\n",
        "    \"What is the postal code for VB City LLP's residence?\",\n",
        "    \"Can you provide the address details for Shashikiran Builders & Developers?\",\n",
        "    \"What is the current address of Legado Ventures LLP?\",\n",
        "    \"In which state does Goldstone Infra currently reside?\",\n",
        "    \"What is the postal code for JNR Builders's residence?\",\n",
        "    \"Could you please share the complete address of Dhanush Infrastructers?\",\n",
        "    \"Which state does M/S Shiva Sharan Infra Developers currently reside in?\",\n",
        "    \"Do you have the postal code for New Perfect Builders's residence?\",\n",
        "    \"What is the address of My Place Infra?\",\n",
        "    \"What is the postal code for Swetcha Destinations LLP's current residence?\",\n",
        "    \"Could you share the complete address of Viswanath Avenues?\",\n",
        "    \"In which state does Mahalakshmi Homes currently reside?\",\n",
        "    \"What is the postal code for Udayasri Infra's residence?\",\n",
        "    \"Can you provide the address details for Aditya Developers?\",\n",
        "    \"What is the current address of Trishala Infrastructure Private Limited?\",\n",
        "    \"In which state does S A Developers currently reside?\",\n",
        "    \"What is the postal code for Legacy Projects's residence?\",\n",
        "    \"Could you please share the complete address of Sahaj Kalyan Gruha Private Limited?\",\n",
        "    \"Which state does Varapradha Real Estates Private Limited currently reside in?\",\n",
        "    \"Do you have the postal code for Keerthi Estates Private Limited's residence?\",\n",
        "    \"What is the address of Orchid Ventures?\",\n",
        "    \"What is the postal code for Sree Shakti Developers's residence?\",\n",
        "    \"Could you share the complete address of Environ Estates Pvt Ltd?\",\n",
        "    \"In which state does Oorjita Builders and Developers Private Limited currently reside?\",\n",
        "    \"What is the postal code for Viveks Green Homes Private Limited's residence?\",\n",
        "    \"Can you provide the address details for Marwell Homes?\",\n",
        "    \"What is the current address of Bliss Homes?\",\n",
        "    \"In which state does Bonsai MNP Housing currently reside?\",\n",
        "    \"What is the postal code for Quality Builders's residence?\",\n",
        "    \"Could you please share the complete address of Jayadev and Others?\",\n",
        "    \"Which state does Sri Mytri Constrctions and Deveploers currently reside in?\",\n",
        "    \"Do you have the postal code for Abode Developers's residence?\",\n",
        "    \"What is the address of M/s TMR Constructions?\",\n",
        "    \"What is the postal code for Sreenivasa Constructions's residence?\",\n",
        "    \"Could you share the complete address of Bhuvan Grandeur Construction?\",\n",
        "    \"In which state does Vision Avenues Private Limited currently reside?\",\n",
        "    \"What is the postal code for Virtusa Lifespaces Private Limited's residence?\",\n",
        "    \"Can you provide the address details for Rineesh Infra and Developers?\",\n",
        "    \"What is the current address of Engreen Custom Homes?\",\n",
        "    \"In which state does Sudheer Kumar Gangireddy currently reside?\",\n",
        "    \"What is the postal code for Sri Balaji Constructions's residence?\",\n",
        "    \"Could you please share the complete address of Shree Vinayaka Lorven Developers?\",\n",
        "    \"Which state does Srinivasa Constructions currently reside in?\",\n",
        "    \"Do you have the postal code for Shree Maruthi Constructions's residence?\",\n",
        "    \"What is the address of Maruthi Builders?\",\n",
        "    \"What is the postal code for Smart City Infra Developers's residence?\",\n",
        "    \"Could you share the complete address of A R C Projects and Infra?\",\n",
        "    \"In which state does Dhanu Constructions Private Limited currently reside?\",\n",
        "    \"What is the postal code for Satvika Constructions's residence?\",\n",
        "    \"Can you provide the address details for Vipra Ventures?\",\n",
        "    \"What is the current address of MPM Hotels Private Limited?\",\n",
        "    \"In which state does 1. M/S Vivek's Green Homes Pvt Ltd & 2.M/S Go Green Infra Projects and Others currently reside?\",\n",
        "    \"What is the postal code for Emerald Constructions's residence?\",\n",
        "    \"Could you please share the complete address of Sri Sai Krupa Constructions?\"\n",
        "]"
      ]
    },
    {
      "cell_type": "code",
      "execution_count": null,
      "metadata": {
        "id": "PWhjR_Dc3ju4"
      },
      "outputs": [],
      "source": [
        "new_queries_address = [\n",
        "    \"Who resides at 1-4-1023, Varalaxmi, Gunj Road, Bodhan, Telangana 503185?\",\n",
        "    \"Give me details about the resident at Swarnadhama Nagar, Old Bowenpally, Telangana 500011.\",\n",
        "    \"What is the current address of Hemanth Kumar in Yellareddyguda, Telangana 500062?\",\n",
        "    \"Tell me about the person living in Citizen Colony, Indresham, Sangareddy with the pin code 502319.\",\n",
        "    \"In Kukatpally, Telangana 500072, who resides at Hemanas Lake View Heights, Jayanagar?\",\n",
        "    \"Who lives in Balaji Nagar, Kukatpally, Telangana 500072, opposite BJP Office?\",\n",
        "    \"Can you provide information about the resident of Narapally, Medchal-Malkajgiri, Telangana 500088, in SVS Promoters and Developers?\",\n",
        "    \"Tell me about the person residing in Mallial, Jagithyal, Telangana 505452, with the address 7-1-95?\",\n",
        "    \"Who resides in Ameerpet, Hyderabad, Telangana 500016, in Shubham Apartments, opposite Bigbazar Lane, near RBI Quarters?\",\n",
        "    \"Give me the details for the person living in Dulapally, Medchal-Malkajgiri, Telangana 500100, near Hanuman Temple, in Sanjana's Interlaken?\",\n",
        "    \"Who resides in Banjara Hills, Hyderabad, Telangana 500034, in Ashoka Capitol, Road No:2, Opp KBR Park?\",\n",
        "    \"Can you share the address details for the person residing at PUPPALAGUDA VILLAGE, Dollar Hills Colony, Dollar Hills, Telangana 500089?\",\n",
        "    \"Tell me about the resident of Bachupally, Medchal-Malkajgiri, Telangana 500090, in Hill County, Villa no 235?\",\n",
        "    \"What is the current address of Suresh Raju in Miyapur, Hyderabad, Telangana 500049?\"\n",
        "]"
      ]
    },
    {
      "cell_type": "code",
      "execution_count": null,
      "metadata": {
        "colab": {
          "base_uri": "https://localhost:8080/",
          "height": 1000
        },
        "id": "6er1b2z63uUr",
        "outputId": "11ff0076-a4c8-46b7-b368-3ecb008ab08c"
      },
      "outputs": [
        {
          "name": "stdout",
          "output_type": "stream",
          "text": [
            "---------------------------------------------------------------------------------------------------\n",
            "QUERY: Can you provide the current address of Vamshi Constructions?\n",
            "Similarity Search:- Consider the following information for the address of VAMSI RAM BUILDERS:\n",
            "- Mandal: Kondapur\n",
            "- Village/City/Town: KONDAPUR\n",
            "- Street: KONDAPUR\n",
            "- Locality: 500084\n",
            "- State: Ranga Reddy\n",
            "- District: Serilingampally\n",
            "- Pin Code:\n",
            "RESPONSE: The address of Vamshi Constructions is - 500084, Kondapur\n",
            "---------------------------------------------------------------------------------------------------\n",
            "QUERY: In which state is the residence of Sri Satya Developers located?\n",
            "Similarity Search:- Consider the following information for the address of M/S LOHIYA DEVELOPERS PRIVATE LIMITED:\n",
            "- Mandal: Kismathpur\n",
            "- Village/City/Town: SRI SATYA SAI N.R.I TOWNSHIP\n",
            "- Street: SRI SATYA SAI N.R.I TOWNSHIP\n",
            "- Locality: 500035\n",
            "- State: Ranga Reddy\n",
            "- District: Gandipet\n",
            "- Pin Code:\n",
            "RESPONSE: The residence of Sri Satya Developers is located in the state of Ranga Reddy\n",
            "---------------------------------------------------------------------------------------------------\n",
            "QUERY: What is the postal code for Divinehomes's current residence?\n",
            "Similarity Search:- Consider the following information for the address of DIVINE HOMES:\n",
            "- Mandal: OSMANNAGAR\n",
            "- Village/City/Town: SY NOs 37/A/3, 37/A/2, 37/AA1, 37/A/1, 37/AA/2, 37/A/4 AND 37/A/5\n",
            "- Street: OSMAN NAGAR VILLAGE, RAMACHANDRAPURAM MANDAL\n",
            "- Locality: 502032\n",
            "- State: Sangareddy\n",
            "- District: RC PURAM\n",
            "- Pin Code:\n",
            "RESPONSE: 502032\n",
            "---------------------------------------------------------------------------------------------------\n",
            "QUERY: Could you please share the complete address details of Sri Vathsa Homes Pvt Ltd?\n",
            "Similarity Search:- Consider the following information for the address of SRI VATHSA HOMES PVT LTD:\n",
            "- Mandal: \n",
            "- Village/City/Town: \n",
            "- Street: MAYURI NAGAR\n",
            "- Locality: MIYAPUR\n",
            "- State: Telangana\n",
            "- District: Ranga Reddy\n",
            "- Pin Code: 500049\n",
            "RESPONSE: The address of SRI VATHSA HOMES PVT LTD is MAYURI NAGAR,\n",
            "---------------------------------------------------------------------------------------------------\n",
            "QUERY: Which state does Sri Sreenivasa Constructions currently reside in?\n",
            "Similarity Search:- Consider the following information for the address of Sri Srinivasa Constructions:\n",
            "- Mandal: \n",
            "- Village/City/Town: \n",
            "- Street: Manasa Hills\n",
            "- Locality: Rajendra Nagar\n",
            "- State: Telangana\n",
            "- District: Hyderabad\n",
            "- Pin Code: 500030\n",
            "RESPONSE: The address of Sri Srinivasa Constructions is Rajendra Nagar, Hyderabad,\n",
            "---------------------------------------------------------------------------------------------------\n",
            "QUERY: What is the address of BSR Developers and Others?\n",
            "Similarity Search:- Consider the following information for the address of BSR DEVELOPERS AND OTHERS:\n",
            "- Mandal: Shamirpet\n",
            "- Village/City/Town: \n",
            "- Street: UPPERPALLY\n",
            "- Locality: UPPERPALLY\n",
            "- State: Telangana\n",
            "- District: Medchal-Malkajgiri\n",
            "- Pin Code: 500078\n",
            "RESPONSE: BSR Developers and Others is located in UPPERPALLY, Medchal-M\n",
            "---------------------------------------------------------------------------------------------------\n",
            "QUERY: Do you have the postal code for Devi Developers & Builders's current residence?\n",
            "Similarity Search:- Consider the following information for the address of DEVI CONSTRUCTIONS BUILDERS & DEVELOPERS:\n",
            "- Mandal: \n",
            "- Village/City/Town: GAYATRI NAGAR\n",
            "- Street: ALLAPUR\n",
            "- Locality: 500072\n",
            "- State: Medchal-Malkajgiri\n",
            "- District: Kukatpally\n",
            "- Pin Code:\n",
            "RESPONSE: The postal code of Devi Developers & Builders is 500072.\n",
            "---------------------------------------------------------------------------------------------------\n",
            "QUERY: What is the full address of Ektha Prime Lakemont Homes?\n",
            "Similarity Search:- Consider the following information for the address of EKTHA PRIME LAKEMONT HOMES:\n",
            "- Mandal: Gandipet\n",
            "- Village/City/Town: 63\n",
            "- Street: GANDIPET VILLAGE\n",
            "- Locality: 500075\n",
            "- State: Ranga Reddy\n",
            "- District: Gandipet\n",
            "- Pin Code:\n",
            "RESPONSE: Ektha Prime Lakemont Homes is located at GANDIPET VILLAGE,\n",
            "---------------------------------------------------------------------------------------------------\n",
            "QUERY: In which state does Ashoka Ventures Rep by M Ashok Vardhan currently reside?\n",
            "Similarity Search:- Consider the following information for the address of ASHOKA VENTURES REP BY M ASHOK VARDHAN:\n",
            "- Mandal: Nandhigam\n",
            "- Village/City/Town: J P DARGAH\n",
            "- Street: NEAR KOTHUR\n",
            "- Locality: 509228\n",
            "- State: Ranga Reddy\n",
            "- District: Nandigama\n",
            "- Pin Code:\n",
            "RESPONSE: J P Daragh is located in the state of Ranga Reddy.\n",
            "---------------------------------------------------------------------------------------------------\n",
            "QUERY: What is the postal code for Akshay Developers's current residence?\n",
            "Similarity Search:- Consider the following information for the address of AKSHAY DEVELOPERS:\n",
            "- Mandal: \n",
            "- Village/City/Town: \n",
            "- Street: PANJAGUTTA\n",
            "- Locality: PANJAGUTTA\n",
            "- State: Telangana\n",
            "- District: Hyderabad\n",
            "- Pin Code: 500082\n",
            "RESPONSE: AKSHAY DEVELOPERS is located in PANJAGUTTA, Hyderabad\n",
            "---------------------------------------------------------------------------------------------------\n",
            "QUERY: Can you provide the address details for Agalduty Raju?\n",
            "Similarity Search:- Consider the following information for the address of AGALDUTY RAJU:\n",
            "- Mandal: Shamirpet\n",
            "- Village/City/Town: Thumkunta\n",
            "- Street: NA\n",
            "- Locality: THUMKUNTA\n",
            "- State: Telangana\n",
            "- District: Medchal-Malkajgiri\n",
            "- Pin Code: 500078\n",
            "RESPONSE: THUMKUNTA - THUMKUNTA - THUM\n",
            "---------------------------------------------------------------------------------------------------\n",
            "QUERY: In which state does AV Constructions and Developers currently reside?\n",
            "Similarity Search:- Consider the following information for the address of AV CONSTRUCTIONS AND DEVELOPERS:\n",
            "- Mandal: \n",
            "- Village/City/Town: WADAIGUDEM  GRAM PANCHAYAT\n",
            "- Street: RAIGIRI REVENUE VILLAGE\n",
            "- Locality: 506115\n",
            "- State: Yadadri Bhuvanagiri\n",
            "- District: \n",
            "- Pin Code:\n",
            "RESPONSE: AV Constructions and Developers is located in the state of Yadadri Bhu\n",
            "---------------------------------------------------------------------------------------------------\n",
            "QUERY: What is the postal code for Vathsalya Constructions's residence?\n",
            "Similarity Search:- Consider the following information for the address of VATHSALYA CONSTRUCTIONS:\n",
            "- Mandal: Serilingampally\n",
            "- Village/City/Town: Miyapur\n",
            "- Street: HOUSE BUILDINGSOCIETY\n",
            "- Locality: MATRUSRI CO-OP HOUSE BUILDING SOCIETY LTD\n",
            "- State: Telangana\n",
            "- District: Ranga Reddy\n",
            "- Pin Code: 500049\n",
            "RESPONSE: 500049 is the postal code for the address of Vathsalya Constructions\n",
            "---------------------------------------------------------------------------------------------------\n",
            "QUERY: Could you please share the complete address of Sreshta Constructions?\n",
            "Similarity Search:- Consider the following information for the address of SHANTA SRIRAM CONSTRUCTIONS PVT LTD:\n",
            "- Mandal: Kismathpur\n",
            "- Village/City/Town: KISMATHPUR\n",
            "- Street: KISMATHPUR\n",
            "- Locality: 500030\n",
            "- State: Ranga Reddy\n",
            "- District: Gandipet\n",
            "- Pin Code:\n",
            "RESPONSE: The address of Sreshta Constructions PVT LTD is: - Manda\n",
            "---------------------------------------------------------------------------------------------------\n",
            "QUERY: Which state is the current residence of Sri Sai Chakra Developers located in?\n",
            "Similarity Search:- Consider the following information for the address of SRI SAI CHAKRA DEVELOPERS:\n",
            "- Mandal: Serilingampally\n",
            "- Village/City/Town: \n",
            "- Street: HMT SWARNAPURI COLONY\n",
            "- Locality: MAKTHAMAHABOOB PETA\n",
            "- State: Telangana\n",
            "- District: Ranga Reddy\n",
            "- Pin Code: 500019\n",
            "RESPONSE: Telangana is the location of the current residence of Sri Sai Chakra Developers\n",
            "---------------------------------------------------------------------------------------------------\n",
            "QUERY: Do you have the postal code for Bricks Infratech LLP's residence?\n",
            "Similarity Search:- Consider the following information for the address of BRICKS INFRATECH LLP:\n",
            "- Mandal: \n",
            "- Village/City/Town: Tellapur road\n",
            "- Street: Gopanapally Cross Road\n",
            "- Locality: 500046\n",
            "- State: Ranga Reddy\n",
            "- District: Serilingampally\n",
            "- Pin Code:\n",
            "RESPONSE: The postal code of Bricks Infratech LLP is 500046.\n",
            "---------------------------------------------------------------------------------------------------\n",
            "QUERY: What is the address of Eminence Constructions?\n",
            "Similarity Search:- Consider the following information for the address of EMINENCE CONSTRUCTIONS:\n",
            "- Mandal: Saroornagar\n",
            "- Village/City/Town: \n",
            "- Street: VISHALANDHRA COLONY\n",
            "- Locality: LB NAGAR\n",
            "- State: Telangana\n",
            "- District: Ranga Reddy\n",
            "- Pin Code: 500068\n",
            "RESPONSE: The address of Eminence Constructions is LB NAGAR, Ranga Reddy,\n",
            "---------------------------------------------------------------------------------------------------\n",
            "QUERY: What is the postal code for Rudraksh MegaCorp Private Limited's current residence?\n",
            "Similarity Search:- Consider the following information for the address of Rudraksh MegaCorp Private Limited:\n",
            "- Mandal: Shamirpet\n",
            "- Village/City/Town: \n",
            "- Street: Shamirpet Village\n",
            "- Locality: Shamirpet Village\n",
            "- State: Telangana\n",
            "- District: Medchal-Malkajgiri\n",
            "- Pin Code: 500078\n",
            "RESPONSE: The postal code of Rudraksh MegaCorp Private Limited is 500078.\n",
            "---------------------------------------------------------------------------------------------------\n",
            "QUERY: Could you share the complete address of Sri Sai Ram Projects?\n",
            "Similarity Search:- Consider the following information for the address of SRI SAI RAM PROJECTS:\n",
            "- Mandal: Gajula Ramaram-1\n",
            "- Village/City/Town: GAJULARAMARAM\n",
            "- Street: GAJULARAMARAM\n",
            "- Locality: 500055\n",
            "- State: Medchal-Malkajgiri\n",
            "- District: Qutballapur\n",
            "- Pin Code:\n",
            "RESPONSE: GAJULARAMARAM - Mandal: Gajula Ramaram-1\n",
            "---------------------------------------------------------------------------------------------------\n",
            "QUERY: In which state does AVL Constructions currently reside?\n",
            "Similarity Search:- Consider the following information for the address of AVL CONSTRUCTIONS:\n",
            "- Mandal: Ibrahimpatnam\n",
            "- Village/City/Town: \n",
            "- Street: ADITHYANAGAR\n",
            "- Locality: ADIBATLA\n",
            "- State: Telangana\n",
            "- District: Ranga Reddy\n",
            "- Pin Code: 501510\n",
            "RESPONSE: AVL Constructions is located in the state of Telangana.\n"
          ]
        },
        {
          "ename": "AuthenticationError",
          "evalue": "Error code: 401 - {'error': {'message': 'Incorrect API key provided: sk-44vZf***************************************mkAs. You can find your API key at https://platform.openai.com/account/api-keys.', 'type': 'invalid_request_error', 'param': None, 'code': 'invalid_api_key'}}",
          "output_type": "error",
          "traceback": [
            "\u001b[0;31m---------------------------------------------------------------------------\u001b[0m",
            "\u001b[0;31mAuthenticationError\u001b[0m                       Traceback (most recent call last)",
            "\u001b[0;32m<ipython-input-69-49fff301b7c2>\u001b[0m in \u001b[0;36m<cell line: 2>\u001b[0;34m()\u001b[0m\n\u001b[1;32m      1\u001b[0m \u001b[0mresult_str\u001b[0m \u001b[0;34m=\u001b[0m \u001b[0;34m\"\"\u001b[0m\u001b[0;34m\u001b[0m\u001b[0;34m\u001b[0m\u001b[0m\n\u001b[1;32m      2\u001b[0m \u001b[0;32mfor\u001b[0m \u001b[0mqur\u001b[0m \u001b[0;32min\u001b[0m \u001b[0mold_queries_address\u001b[0m\u001b[0;34m:\u001b[0m\u001b[0;34m\u001b[0m\u001b[0;34m\u001b[0m\u001b[0m\n\u001b[0;32m----> 3\u001b[0;31m     \u001b[0mresult\u001b[0m \u001b[0;34m=\u001b[0m \u001b[0mQ_A_address\u001b[0m\u001b[0;34m(\u001b[0m\u001b[0mqur\u001b[0m\u001b[0;34m)\u001b[0m\u001b[0;34m\u001b[0m\u001b[0;34m\u001b[0m\u001b[0m\n\u001b[0m\u001b[1;32m      4\u001b[0m     \u001b[0;32mif\u001b[0m \u001b[0mresult\u001b[0m \u001b[0;32mis\u001b[0m \u001b[0;32mnot\u001b[0m \u001b[0;32mNone\u001b[0m\u001b[0;34m:\u001b[0m\u001b[0;34m\u001b[0m\u001b[0;34m\u001b[0m\u001b[0m\n\u001b[1;32m      5\u001b[0m         \u001b[0mresult_str\u001b[0m \u001b[0;34m+=\u001b[0m \u001b[0mresult\u001b[0m\u001b[0;34m\u001b[0m\u001b[0;34m\u001b[0m\u001b[0m\n",
            "\u001b[0;32m<ipython-input-55-8a43c130391d>\u001b[0m in \u001b[0;36mQ_A_address\u001b[0;34m(query)\u001b[0m\n\u001b[1;32m      2\u001b[0m \u001b[0;32mdef\u001b[0m \u001b[0mQ_A_address\u001b[0m\u001b[0;34m(\u001b[0m\u001b[0mquery\u001b[0m\u001b[0;34m)\u001b[0m\u001b[0;34m:\u001b[0m\u001b[0;34m\u001b[0m\u001b[0;34m\u001b[0m\u001b[0m\n\u001b[1;32m      3\u001b[0m   \u001b[0mentities\u001b[0m\u001b[0;34m=\u001b[0m\u001b[0;34m[\u001b[0m\u001b[0;34m]\u001b[0m\u001b[0;34m\u001b[0m\u001b[0;34m\u001b[0m\u001b[0m\n\u001b[0;32m----> 4\u001b[0;31m   \u001b[0mdocs\u001b[0m \u001b[0;34m=\u001b[0m \u001b[0mdb\u001b[0m\u001b[0;34m.\u001b[0m\u001b[0msimilarity_search\u001b[0m\u001b[0;34m(\u001b[0m\u001b[0mquery\u001b[0m\u001b[0;34m)\u001b[0m\u001b[0;34m\u001b[0m\u001b[0;34m\u001b[0m\u001b[0m\n\u001b[0m\u001b[1;32m      5\u001b[0m   \u001b[0mentities\u001b[0m\u001b[0;34m.\u001b[0m\u001b[0mappend\u001b[0m\u001b[0;34m(\u001b[0m\u001b[0mdocs\u001b[0m\u001b[0;34m[\u001b[0m\u001b[0;36m0\u001b[0m\u001b[0;34m]\u001b[0m\u001b[0;34m.\u001b[0m\u001b[0mpage_content\u001b[0m\u001b[0;34m)\u001b[0m\u001b[0;34m\u001b[0m\u001b[0;34m\u001b[0m\u001b[0m\n\u001b[1;32m      6\u001b[0m \u001b[0;34m\u001b[0m\u001b[0m\n",
            "\u001b[0;32m/usr/local/lib/python3.10/dist-packages/langchain_community/vectorstores/faiss.py\u001b[0m in \u001b[0;36msimilarity_search\u001b[0;34m(self, query, k, filter, fetch_k, **kwargs)\u001b[0m\n\u001b[1;32m    546\u001b[0m             \u001b[0mList\u001b[0m \u001b[0mof\u001b[0m \u001b[0mDocuments\u001b[0m \u001b[0mmost\u001b[0m \u001b[0msimilar\u001b[0m \u001b[0mto\u001b[0m \u001b[0mthe\u001b[0m \u001b[0mquery\u001b[0m\u001b[0;34m.\u001b[0m\u001b[0;34m\u001b[0m\u001b[0;34m\u001b[0m\u001b[0m\n\u001b[1;32m    547\u001b[0m         \"\"\"\n\u001b[0;32m--> 548\u001b[0;31m         docs_and_scores = self.similarity_search_with_score(\n\u001b[0m\u001b[1;32m    549\u001b[0m             \u001b[0mquery\u001b[0m\u001b[0;34m,\u001b[0m \u001b[0mk\u001b[0m\u001b[0;34m,\u001b[0m \u001b[0mfilter\u001b[0m\u001b[0;34m=\u001b[0m\u001b[0mfilter\u001b[0m\u001b[0;34m,\u001b[0m \u001b[0mfetch_k\u001b[0m\u001b[0;34m=\u001b[0m\u001b[0mfetch_k\u001b[0m\u001b[0;34m,\u001b[0m \u001b[0;34m**\u001b[0m\u001b[0mkwargs\u001b[0m\u001b[0;34m\u001b[0m\u001b[0;34m\u001b[0m\u001b[0m\n\u001b[1;32m    550\u001b[0m         )\n",
            "\u001b[0;32m/usr/local/lib/python3.10/dist-packages/langchain_community/vectorstores/faiss.py\u001b[0m in \u001b[0;36msimilarity_search_with_score\u001b[0;34m(self, query, k, filter, fetch_k, **kwargs)\u001b[0m\n\u001b[1;32m    418\u001b[0m             \u001b[0mL2\u001b[0m \u001b[0mdistance\u001b[0m \u001b[0;32min\u001b[0m \u001b[0mfloat\u001b[0m\u001b[0;34m.\u001b[0m \u001b[0mLower\u001b[0m \u001b[0mscore\u001b[0m \u001b[0mrepresents\u001b[0m \u001b[0mmore\u001b[0m \u001b[0msimilarity\u001b[0m\u001b[0;34m.\u001b[0m\u001b[0;34m\u001b[0m\u001b[0;34m\u001b[0m\u001b[0m\n\u001b[1;32m    419\u001b[0m         \"\"\"\n\u001b[0;32m--> 420\u001b[0;31m         \u001b[0membedding\u001b[0m \u001b[0;34m=\u001b[0m \u001b[0mself\u001b[0m\u001b[0;34m.\u001b[0m\u001b[0m_embed_query\u001b[0m\u001b[0;34m(\u001b[0m\u001b[0mquery\u001b[0m\u001b[0;34m)\u001b[0m\u001b[0;34m\u001b[0m\u001b[0;34m\u001b[0m\u001b[0m\n\u001b[0m\u001b[1;32m    421\u001b[0m         docs = self.similarity_search_with_score_by_vector(\n\u001b[1;32m    422\u001b[0m             \u001b[0membedding\u001b[0m\u001b[0;34m,\u001b[0m\u001b[0;34m\u001b[0m\u001b[0;34m\u001b[0m\u001b[0m\n",
            "\u001b[0;32m/usr/local/lib/python3.10/dist-packages/langchain_community/vectorstores/faiss.py\u001b[0m in \u001b[0;36m_embed_query\u001b[0;34m(self, text)\u001b[0m\n\u001b[1;32m    153\u001b[0m     \u001b[0;32mdef\u001b[0m \u001b[0m_embed_query\u001b[0m\u001b[0;34m(\u001b[0m\u001b[0mself\u001b[0m\u001b[0;34m,\u001b[0m \u001b[0mtext\u001b[0m\u001b[0;34m:\u001b[0m \u001b[0mstr\u001b[0m\u001b[0;34m)\u001b[0m \u001b[0;34m->\u001b[0m \u001b[0mList\u001b[0m\u001b[0;34m[\u001b[0m\u001b[0mfloat\u001b[0m\u001b[0;34m]\u001b[0m\u001b[0;34m:\u001b[0m\u001b[0;34m\u001b[0m\u001b[0;34m\u001b[0m\u001b[0m\n\u001b[1;32m    154\u001b[0m         \u001b[0;32mif\u001b[0m \u001b[0misinstance\u001b[0m\u001b[0;34m(\u001b[0m\u001b[0mself\u001b[0m\u001b[0;34m.\u001b[0m\u001b[0membedding_function\u001b[0m\u001b[0;34m,\u001b[0m \u001b[0mEmbeddings\u001b[0m\u001b[0;34m)\u001b[0m\u001b[0;34m:\u001b[0m\u001b[0;34m\u001b[0m\u001b[0;34m\u001b[0m\u001b[0m\n\u001b[0;32m--> 155\u001b[0;31m             \u001b[0;32mreturn\u001b[0m \u001b[0mself\u001b[0m\u001b[0;34m.\u001b[0m\u001b[0membedding_function\u001b[0m\u001b[0;34m.\u001b[0m\u001b[0membed_query\u001b[0m\u001b[0;34m(\u001b[0m\u001b[0mtext\u001b[0m\u001b[0;34m)\u001b[0m\u001b[0;34m\u001b[0m\u001b[0;34m\u001b[0m\u001b[0m\n\u001b[0m\u001b[1;32m    156\u001b[0m         \u001b[0;32melse\u001b[0m\u001b[0;34m:\u001b[0m\u001b[0;34m\u001b[0m\u001b[0;34m\u001b[0m\u001b[0m\n\u001b[1;32m    157\u001b[0m             \u001b[0;32mreturn\u001b[0m \u001b[0mself\u001b[0m\u001b[0;34m.\u001b[0m\u001b[0membedding_function\u001b[0m\u001b[0;34m(\u001b[0m\u001b[0mtext\u001b[0m\u001b[0;34m)\u001b[0m\u001b[0;34m\u001b[0m\u001b[0;34m\u001b[0m\u001b[0m\n",
            "\u001b[0;32m/usr/local/lib/python3.10/dist-packages/langchain_openai/embeddings/base.py\u001b[0m in \u001b[0;36membed_query\u001b[0;34m(self, text)\u001b[0m\n\u001b[1;32m    507\u001b[0m             \u001b[0mEmbedding\u001b[0m \u001b[0;32mfor\u001b[0m \u001b[0mthe\u001b[0m \u001b[0mtext\u001b[0m\u001b[0;34m.\u001b[0m\u001b[0;34m\u001b[0m\u001b[0;34m\u001b[0m\u001b[0m\n\u001b[1;32m    508\u001b[0m         \"\"\"\n\u001b[0;32m--> 509\u001b[0;31m         \u001b[0;32mreturn\u001b[0m \u001b[0mself\u001b[0m\u001b[0;34m.\u001b[0m\u001b[0membed_documents\u001b[0m\u001b[0;34m(\u001b[0m\u001b[0;34m[\u001b[0m\u001b[0mtext\u001b[0m\u001b[0;34m]\u001b[0m\u001b[0;34m)\u001b[0m\u001b[0;34m[\u001b[0m\u001b[0;36m0\u001b[0m\u001b[0;34m]\u001b[0m\u001b[0;34m\u001b[0m\u001b[0;34m\u001b[0m\u001b[0m\n\u001b[0m\u001b[1;32m    510\u001b[0m \u001b[0;34m\u001b[0m\u001b[0m\n\u001b[1;32m    511\u001b[0m     \u001b[0;32masync\u001b[0m \u001b[0;32mdef\u001b[0m \u001b[0maembed_query\u001b[0m\u001b[0;34m(\u001b[0m\u001b[0mself\u001b[0m\u001b[0;34m,\u001b[0m \u001b[0mtext\u001b[0m\u001b[0;34m:\u001b[0m \u001b[0mstr\u001b[0m\u001b[0;34m)\u001b[0m \u001b[0;34m->\u001b[0m \u001b[0mList\u001b[0m\u001b[0;34m[\u001b[0m\u001b[0mfloat\u001b[0m\u001b[0;34m]\u001b[0m\u001b[0;34m:\u001b[0m\u001b[0;34m\u001b[0m\u001b[0;34m\u001b[0m\u001b[0m\n",
            "\u001b[0;32m/usr/local/lib/python3.10/dist-packages/langchain_openai/embeddings/base.py\u001b[0m in \u001b[0;36membed_documents\u001b[0;34m(self, texts, chunk_size)\u001b[0m\n\u001b[1;32m    478\u001b[0m         \u001b[0;31m#       than the maximum context and use length-safe embedding function.\u001b[0m\u001b[0;34m\u001b[0m\u001b[0;34m\u001b[0m\u001b[0m\n\u001b[1;32m    479\u001b[0m         \u001b[0mengine\u001b[0m \u001b[0;34m=\u001b[0m \u001b[0mcast\u001b[0m\u001b[0;34m(\u001b[0m\u001b[0mstr\u001b[0m\u001b[0;34m,\u001b[0m \u001b[0mself\u001b[0m\u001b[0;34m.\u001b[0m\u001b[0mdeployment\u001b[0m\u001b[0;34m)\u001b[0m\u001b[0;34m\u001b[0m\u001b[0;34m\u001b[0m\u001b[0m\n\u001b[0;32m--> 480\u001b[0;31m         \u001b[0;32mreturn\u001b[0m \u001b[0mself\u001b[0m\u001b[0;34m.\u001b[0m\u001b[0m_get_len_safe_embeddings\u001b[0m\u001b[0;34m(\u001b[0m\u001b[0mtexts\u001b[0m\u001b[0;34m,\u001b[0m \u001b[0mengine\u001b[0m\u001b[0;34m=\u001b[0m\u001b[0mengine\u001b[0m\u001b[0;34m)\u001b[0m\u001b[0;34m\u001b[0m\u001b[0;34m\u001b[0m\u001b[0m\n\u001b[0m\u001b[1;32m    481\u001b[0m \u001b[0;34m\u001b[0m\u001b[0m\n\u001b[1;32m    482\u001b[0m     async def aembed_documents(\n",
            "\u001b[0;32m/usr/local/lib/python3.10/dist-packages/langchain_openai/embeddings/base.py\u001b[0m in \u001b[0;36m_get_len_safe_embeddings\u001b[0;34m(self, texts, engine, chunk_size)\u001b[0m\n\u001b[1;32m    321\u001b[0m         \u001b[0mbatched_embeddings\u001b[0m\u001b[0;34m:\u001b[0m \u001b[0mList\u001b[0m\u001b[0;34m[\u001b[0m\u001b[0mList\u001b[0m\u001b[0;34m[\u001b[0m\u001b[0mfloat\u001b[0m\u001b[0;34m]\u001b[0m\u001b[0;34m]\u001b[0m \u001b[0;34m=\u001b[0m \u001b[0;34m[\u001b[0m\u001b[0;34m]\u001b[0m\u001b[0;34m\u001b[0m\u001b[0;34m\u001b[0m\u001b[0m\n\u001b[1;32m    322\u001b[0m         \u001b[0;32mfor\u001b[0m \u001b[0mi\u001b[0m \u001b[0;32min\u001b[0m \u001b[0m_iter\u001b[0m\u001b[0;34m:\u001b[0m\u001b[0;34m\u001b[0m\u001b[0;34m\u001b[0m\u001b[0m\n\u001b[0;32m--> 323\u001b[0;31m             response = self.client.create(\n\u001b[0m\u001b[1;32m    324\u001b[0m                 \u001b[0minput\u001b[0m\u001b[0;34m=\u001b[0m\u001b[0mtokens\u001b[0m\u001b[0;34m[\u001b[0m\u001b[0mi\u001b[0m \u001b[0;34m:\u001b[0m \u001b[0mi\u001b[0m \u001b[0;34m+\u001b[0m \u001b[0m_chunk_size\u001b[0m\u001b[0;34m]\u001b[0m\u001b[0;34m,\u001b[0m \u001b[0;34m**\u001b[0m\u001b[0mself\u001b[0m\u001b[0;34m.\u001b[0m\u001b[0m_invocation_params\u001b[0m\u001b[0;34m\u001b[0m\u001b[0;34m\u001b[0m\u001b[0m\n\u001b[1;32m    325\u001b[0m             )\n",
            "\u001b[0;32m/usr/local/lib/python3.10/dist-packages/openai/resources/embeddings.py\u001b[0m in \u001b[0;36mcreate\u001b[0;34m(self, input, model, dimensions, encoding_format, user, extra_headers, extra_query, extra_body, timeout)\u001b[0m\n\u001b[1;32m    111\u001b[0m             \u001b[0;32mreturn\u001b[0m \u001b[0mobj\u001b[0m\u001b[0;34m\u001b[0m\u001b[0;34m\u001b[0m\u001b[0m\n\u001b[1;32m    112\u001b[0m \u001b[0;34m\u001b[0m\u001b[0m\n\u001b[0;32m--> 113\u001b[0;31m         return self._post(\n\u001b[0m\u001b[1;32m    114\u001b[0m             \u001b[0;34m\"/embeddings\"\u001b[0m\u001b[0;34m,\u001b[0m\u001b[0;34m\u001b[0m\u001b[0;34m\u001b[0m\u001b[0m\n\u001b[1;32m    115\u001b[0m             \u001b[0mbody\u001b[0m\u001b[0;34m=\u001b[0m\u001b[0mmaybe_transform\u001b[0m\u001b[0;34m(\u001b[0m\u001b[0mparams\u001b[0m\u001b[0;34m,\u001b[0m \u001b[0membedding_create_params\u001b[0m\u001b[0;34m.\u001b[0m\u001b[0mEmbeddingCreateParams\u001b[0m\u001b[0;34m)\u001b[0m\u001b[0;34m,\u001b[0m\u001b[0;34m\u001b[0m\u001b[0;34m\u001b[0m\u001b[0m\n",
            "\u001b[0;32m/usr/local/lib/python3.10/dist-packages/openai/_base_client.py\u001b[0m in \u001b[0;36mpost\u001b[0;34m(self, path, cast_to, body, options, files, stream, stream_cls)\u001b[0m\n\u001b[1;32m   1198\u001b[0m             \u001b[0mmethod\u001b[0m\u001b[0;34m=\u001b[0m\u001b[0;34m\"post\"\u001b[0m\u001b[0;34m,\u001b[0m \u001b[0murl\u001b[0m\u001b[0;34m=\u001b[0m\u001b[0mpath\u001b[0m\u001b[0;34m,\u001b[0m \u001b[0mjson_data\u001b[0m\u001b[0;34m=\u001b[0m\u001b[0mbody\u001b[0m\u001b[0;34m,\u001b[0m \u001b[0mfiles\u001b[0m\u001b[0;34m=\u001b[0m\u001b[0mto_httpx_files\u001b[0m\u001b[0;34m(\u001b[0m\u001b[0mfiles\u001b[0m\u001b[0;34m)\u001b[0m\u001b[0;34m,\u001b[0m \u001b[0;34m**\u001b[0m\u001b[0moptions\u001b[0m\u001b[0;34m\u001b[0m\u001b[0;34m\u001b[0m\u001b[0m\n\u001b[1;32m   1199\u001b[0m         )\n\u001b[0;32m-> 1200\u001b[0;31m         \u001b[0;32mreturn\u001b[0m \u001b[0mcast\u001b[0m\u001b[0;34m(\u001b[0m\u001b[0mResponseT\u001b[0m\u001b[0;34m,\u001b[0m \u001b[0mself\u001b[0m\u001b[0;34m.\u001b[0m\u001b[0mrequest\u001b[0m\u001b[0;34m(\u001b[0m\u001b[0mcast_to\u001b[0m\u001b[0;34m,\u001b[0m \u001b[0mopts\u001b[0m\u001b[0;34m,\u001b[0m \u001b[0mstream\u001b[0m\u001b[0;34m=\u001b[0m\u001b[0mstream\u001b[0m\u001b[0;34m,\u001b[0m \u001b[0mstream_cls\u001b[0m\u001b[0;34m=\u001b[0m\u001b[0mstream_cls\u001b[0m\u001b[0;34m)\u001b[0m\u001b[0;34m)\u001b[0m\u001b[0;34m\u001b[0m\u001b[0;34m\u001b[0m\u001b[0m\n\u001b[0m\u001b[1;32m   1201\u001b[0m \u001b[0;34m\u001b[0m\u001b[0m\n\u001b[1;32m   1202\u001b[0m     def patch(\n",
            "\u001b[0;32m/usr/local/lib/python3.10/dist-packages/openai/_base_client.py\u001b[0m in \u001b[0;36mrequest\u001b[0;34m(self, cast_to, options, remaining_retries, stream, stream_cls)\u001b[0m\n\u001b[1;32m    887\u001b[0m         \u001b[0mstream_cls\u001b[0m\u001b[0;34m:\u001b[0m \u001b[0mtype\u001b[0m\u001b[0;34m[\u001b[0m\u001b[0m_StreamT\u001b[0m\u001b[0;34m]\u001b[0m \u001b[0;34m|\u001b[0m \u001b[0;32mNone\u001b[0m \u001b[0;34m=\u001b[0m \u001b[0;32mNone\u001b[0m\u001b[0;34m,\u001b[0m\u001b[0;34m\u001b[0m\u001b[0;34m\u001b[0m\u001b[0m\n\u001b[1;32m    888\u001b[0m     ) -> ResponseT | _StreamT:\n\u001b[0;32m--> 889\u001b[0;31m         return self._request(\n\u001b[0m\u001b[1;32m    890\u001b[0m             \u001b[0mcast_to\u001b[0m\u001b[0;34m=\u001b[0m\u001b[0mcast_to\u001b[0m\u001b[0;34m,\u001b[0m\u001b[0;34m\u001b[0m\u001b[0;34m\u001b[0m\u001b[0m\n\u001b[1;32m    891\u001b[0m             \u001b[0moptions\u001b[0m\u001b[0;34m=\u001b[0m\u001b[0moptions\u001b[0m\u001b[0;34m,\u001b[0m\u001b[0;34m\u001b[0m\u001b[0;34m\u001b[0m\u001b[0m\n",
            "\u001b[0;32m/usr/local/lib/python3.10/dist-packages/openai/_base_client.py\u001b[0m in \u001b[0;36m_request\u001b[0;34m(self, cast_to, options, remaining_retries, stream, stream_cls)\u001b[0m\n\u001b[1;32m    963\u001b[0m             \u001b[0;32mif\u001b[0m \u001b[0mretries\u001b[0m \u001b[0;34m>\u001b[0m \u001b[0;36m0\u001b[0m \u001b[0;32mand\u001b[0m \u001b[0mself\u001b[0m\u001b[0;34m.\u001b[0m\u001b[0m_should_retry\u001b[0m\u001b[0;34m(\u001b[0m\u001b[0merr\u001b[0m\u001b[0;34m.\u001b[0m\u001b[0mresponse\u001b[0m\u001b[0;34m)\u001b[0m\u001b[0;34m:\u001b[0m\u001b[0;34m\u001b[0m\u001b[0;34m\u001b[0m\u001b[0m\n\u001b[1;32m    964\u001b[0m                 \u001b[0merr\u001b[0m\u001b[0;34m.\u001b[0m\u001b[0mresponse\u001b[0m\u001b[0;34m.\u001b[0m\u001b[0mclose\u001b[0m\u001b[0;34m(\u001b[0m\u001b[0;34m)\u001b[0m\u001b[0;34m\u001b[0m\u001b[0;34m\u001b[0m\u001b[0m\n\u001b[0;32m--> 965\u001b[0;31m                 return self._retry_request(\n\u001b[0m\u001b[1;32m    966\u001b[0m                     \u001b[0moptions\u001b[0m\u001b[0;34m,\u001b[0m\u001b[0;34m\u001b[0m\u001b[0;34m\u001b[0m\u001b[0m\n\u001b[1;32m    967\u001b[0m                     \u001b[0mcast_to\u001b[0m\u001b[0;34m,\u001b[0m\u001b[0;34m\u001b[0m\u001b[0;34m\u001b[0m\u001b[0m\n",
            "\u001b[0;32m/usr/local/lib/python3.10/dist-packages/openai/_base_client.py\u001b[0m in \u001b[0;36m_retry_request\u001b[0;34m(self, options, cast_to, remaining_retries, response_headers, stream, stream_cls)\u001b[0m\n\u001b[1;32m   1011\u001b[0m         \u001b[0mtime\u001b[0m\u001b[0;34m.\u001b[0m\u001b[0msleep\u001b[0m\u001b[0;34m(\u001b[0m\u001b[0mtimeout\u001b[0m\u001b[0;34m)\u001b[0m\u001b[0;34m\u001b[0m\u001b[0;34m\u001b[0m\u001b[0m\n\u001b[1;32m   1012\u001b[0m \u001b[0;34m\u001b[0m\u001b[0m\n\u001b[0;32m-> 1013\u001b[0;31m         return self._request(\n\u001b[0m\u001b[1;32m   1014\u001b[0m             \u001b[0moptions\u001b[0m\u001b[0;34m=\u001b[0m\u001b[0moptions\u001b[0m\u001b[0;34m,\u001b[0m\u001b[0;34m\u001b[0m\u001b[0;34m\u001b[0m\u001b[0m\n\u001b[1;32m   1015\u001b[0m             \u001b[0mcast_to\u001b[0m\u001b[0;34m=\u001b[0m\u001b[0mcast_to\u001b[0m\u001b[0;34m,\u001b[0m\u001b[0;34m\u001b[0m\u001b[0;34m\u001b[0m\u001b[0m\n",
            "\u001b[0;32m/usr/local/lib/python3.10/dist-packages/openai/_base_client.py\u001b[0m in \u001b[0;36m_request\u001b[0;34m(self, cast_to, options, remaining_retries, stream, stream_cls)\u001b[0m\n\u001b[1;32m    978\u001b[0m \u001b[0;34m\u001b[0m\u001b[0m\n\u001b[1;32m    979\u001b[0m             \u001b[0mlog\u001b[0m\u001b[0;34m.\u001b[0m\u001b[0mdebug\u001b[0m\u001b[0;34m(\u001b[0m\u001b[0;34m\"Re-raising status error\"\u001b[0m\u001b[0;34m)\u001b[0m\u001b[0;34m\u001b[0m\u001b[0;34m\u001b[0m\u001b[0m\n\u001b[0;32m--> 980\u001b[0;31m             \u001b[0;32mraise\u001b[0m \u001b[0mself\u001b[0m\u001b[0;34m.\u001b[0m\u001b[0m_make_status_error_from_response\u001b[0m\u001b[0;34m(\u001b[0m\u001b[0merr\u001b[0m\u001b[0;34m.\u001b[0m\u001b[0mresponse\u001b[0m\u001b[0;34m)\u001b[0m \u001b[0;32mfrom\u001b[0m \u001b[0;32mNone\u001b[0m\u001b[0;34m\u001b[0m\u001b[0;34m\u001b[0m\u001b[0m\n\u001b[0m\u001b[1;32m    981\u001b[0m \u001b[0;34m\u001b[0m\u001b[0m\n\u001b[1;32m    982\u001b[0m         return self._process_response(\n",
            "\u001b[0;31mAuthenticationError\u001b[0m: Error code: 401 - {'error': {'message': 'Incorrect API key provided: sk-44vZf***************************************mkAs. You can find your API key at https://platform.openai.com/account/api-keys.', 'type': 'invalid_request_error', 'param': None, 'code': 'invalid_api_key'}}"
          ]
        }
      ],
      "source": [
        "result_str = \"\"\n",
        "for qur in old_queries_address:\n",
        "    result = Q_A_address(qur)\n",
        "    if result is not None:\n",
        "        result_str += result"
      ]
    },
    {
      "cell_type": "code",
      "execution_count": null,
      "metadata": {
        "colab": {
          "base_uri": "https://localhost:8080/"
        },
        "id": "hsKRTRJf6GOk",
        "outputId": "b1deb944-3992-4634-dcae-38348d56196b"
      },
      "outputs": [
        {
          "name": "stderr",
          "output_type": "stream",
          "text": [
            "/usr/local/lib/python3.10/dist-packages/transformers/generation/utils.py:1288: UserWarning: Using `max_length`'s default (20) to control the generation length. This behaviour is deprecated and will be removed from the config in v5 of Transformers -- we recommend using `max_new_tokens` to control the maximum length of the generation.\n",
            "  warnings.warn(\n"
          ]
        },
        {
          "name": "stdout",
          "output_type": "stream",
          "text": [
            "---------------------------------------------------------------------------------------------------\n",
            "QUERY: Who resides at 1-4-1023, Varalaxmi, Gunj Road, Bodhan, Telangana 503185?\n",
            "Similarity Search:- Consider the following information for the address of UPPALA  VARALAXMI:\n",
            "- House Number: 1-4-1023\n",
            "- Building Name: Varalaxmi\n",
            "- Street Name: Gunj Road\n",
            "- Locality: Bodhan\n",
            "- Landmark: Bodhan\n",
            "- State: Telangana\n",
            "- District: Nizamabad\n",
            "- Pin Code: 503185\n",
            "RESPONSE: UPPALA VARALAXMI lives at 1-4-1023, Varalax\n",
            "---------------------------------------------------------------------------------------------------\n",
            "QUERY: Give me details about the resident at Swarnadhama Nagar, Old Bowenpally, Telangana 500011.\n",
            "Similarity Search:- Consider the following information for the address of KONDAM SRIDHAR REDDY:\n",
            "- House Number: 8-7-177/50/40,41 FLAT NO 201\n",
            "- Building Name: KAMALA RESIDENCY\n",
            "- Street Name: SWARNADHAMA NAGAR\n",
            "- Locality: OLD BOWENPALLY\n",
            "- Landmark: VENKATESHWARA TEMPLE\n",
            "- State: Telangana\n",
            "- District: Medchal-Malkajgiri\n",
            "- Pin Code: 500011\n",
            "RESPONSE: KONDAM SRIDHAR REDDY is a resident of Swarnadham\n",
            "---------------------------------------------------------------------------------------------------\n",
            "QUERY: What is the current address of Hemanth Kumar in Yellareddyguda, Telangana 500062?\n",
            "Similarity Search:- Consider the following information for the address of MUDUNURI  HEMANTH KUMAR:\n",
            "- House Number: Flat No 302\n",
            "- Building Name: K K RESIDENCY\n",
            "- Street Name: MALLIKARJUNA NAGAR\n",
            "- Locality: YELLAREDDYGUDA\n",
            "- Landmark: DABA GARDENS 1st LINE\n",
            "- State: Telangana\n",
            "- District: Medchal-Malkajgiri\n",
            "- Pin Code: 500062\n",
            "RESPONSE: The address of Hemanth Kumar is MUDUNURI HEMANTH KUMAR\n",
            "---------------------------------------------------------------------------------------------------\n",
            "QUERY: Tell me about the person living in Citizen Colony, Indresham, Sangareddy with the pin code 502319.\n",
            "Similarity Search:- Consider the following information for the address of SIVA PRASAD NIDAMARTHY:\n",
            "- Mandal: \n",
            "- Village/City/Town: Indresham Village\n",
            "- Street: Indresham Village\n",
            "- Locality: 502319\n",
            "- State: Sangareddy\n",
            "- District: PATANCHERU\n",
            "- Pin Code:\n",
            "RESPONSE: SIVA PRASAD NIDAMARTHY is a person living in Citizen Col\n",
            "---------------------------------------------------------------------------------------------------\n",
            "QUERY: In Kukatpally, Telangana 500072, who resides at Hemanas Lake View Heights, Jayanagar?\n",
            "Similarity Search:- Consider the following information for the address of SRINIVAS  VELAGAPUDI:\n",
            "- House Number: PLOT NO 171 , 172\n",
            "- Building Name: HEMANAS LAKE VIEWHEIGHTS\n",
            "- Street Name: JAYA NAGAR\n",
            "- Locality: KUKATPALLY\n",
            "- Landmark: NEAR ST. ALPHANSA HIGH SCHOOL\n",
            "- State: Telangana\n",
            "- District: Medchal-Malkajgiri\n",
            "- Pin Code: 500072\n",
            "RESPONSE: SRINIVAS VELAGAPUDI lives at Hemanas Lake View\n",
            "---------------------------------------------------------------------------------------------------\n",
            "QUERY: Who lives in Balaji Nagar, Kukatpally, Telangana 500072, opposite BJP Office?\n",
            "Similarity Search:- Consider the following information for the address of Satish Reddy Mullangi:\n",
            "- House Number: MIG-246\n",
            "- Building Name: venkat ramana residency\n",
            "- Street Name: Balaji Nagar\n",
            "- Locality: Kukatpally\n",
            "- Landmark: Opp BJP Office\n",
            "- State: Telangana\n",
            "- District: Hyderabad\n",
            "- Pin Code: 500072\n",
            "RESPONSE: Satish Reddy Mullangi lives in Balaji Nagar, Kukatpally,\n",
            "---------------------------------------------------------------------------------------------------\n",
            "QUERY: Can you provide information about the resident of Narapally, Medchal-Malkajgiri, Telangana 500088, in SVS Promoters and Developers?\n",
            "Similarity Search:- Consider the following information for the address of SVS PROMOTERS AND DEVELOPERS:\n",
            "- Mandal: \n",
            "- Village/City/Town: NARAPALLI\n",
            "- Street: NARAPALLI VILLAGE\n",
            "- Locality: 500088\n",
            "- State: Medchal-Malkajgiri\n",
            "- District: \n",
            "- Pin Code:\n",
            "RESPONSE: Narapally, Medchal-Malkajgiri, Telangana\n",
            "---------------------------------------------------------------------------------------------------\n",
            "QUERY: Tell me about the person residing in Mallial, Jagithyal, Telangana 505452, with the address 7-1-95?\n",
            "Similarity Search:- Consider the following information for the address of GAJULA  KRISHNA MOHAN:\n",
            "- House Number: 7-1-95\n",
            "- Building Name: NA\n",
            "- Street Name: NA\n",
            "- Locality: MALLIAL\n",
            "- Landmark: NA\n",
            "- State: Telangana\n",
            "- District: Jagithyal\n",
            "- Pin Code: 505452\n",
            "RESPONSE: GAJULA KRISHNA MOHAN is a resident of Mallial,\n",
            "---------------------------------------------------------------------------------------------------\n",
            "QUERY: Who resides in Ameerpet, Hyderabad, Telangana 500016, in Shubham Apartments, opposite Bigbazar Lane, near RBI Quarters?\n",
            "Similarity Search:- Consider the following information for the address of JULURI SURYANARAYANA MURTHY:\n",
            "- House Number: Flat No 203\n",
            "- Building Name: Shubham Apartments\n",
            "- Street Name: opp Bigbazar Lane\n",
            "- Locality: Ameerpet\n",
            "- Landmark: RBI Quarters\n",
            "- State: Telangana\n",
            "- District: Hyderabad\n",
            "- Pin Code: 500016\n",
            "RESPONSE: JULURI SURYANARAYANA MURTHY lives in Shubham\n",
            "---------------------------------------------------------------------------------------------------\n",
            "QUERY: Give me the details for the person living in Dulapally, Medchal-Malkajgiri, Telangana 500100, near Hanuman Temple, in Sanjana's Interlaken?\n",
            "Similarity Search:- Consider the following information for the address of TUMMALA SRINIVAS REDDY:\n",
            "- House Number: SURVEY NO 6 AND 8\n",
            "- Building Name: SANJANA'S INTERLAKEN\n",
            "- Street Name: MAISAMMA GUDEM\n",
            "- Locality: DULAPALLY\n",
            "- Landmark: NEAR HANUMAN TEMPLE\n",
            "- State: Telangana\n",
            "- District: Medchal-Malkajgiri\n",
            "- Pin Code: 500100\n",
            "RESPONSE: TUMMALA SRINIVAS REDDY is a person who lives in\n",
            "---------------------------------------------------------------------------------------------------\n",
            "QUERY: Who resides in Banjara Hills, Hyderabad, Telangana 500034, in Ashoka Capitol, Road No:2, Opp KBR Park?\n",
            "Similarity Search:- Consider the following information for the address of Gattu  Tejaswi Nikhil:\n",
            "- House Number: G-2\n",
            "- Building Name: Ashoka Capitol\n",
            "- Street Name: Road No:2\n",
            "- Locality: Banjara Hills\n",
            "- Landmark: Opp : KBR Park\n",
            "- State: Telangana\n",
            "- District: Hyderabad\n",
            "- Pin Code: 500034\n",
            "RESPONSE: Gattu Tejaswi Nikhil lives in Ashoka Capitol,\n",
            "---------------------------------------------------------------------------------------------------\n",
            "QUERY: Can you share the address details for the person residing at PUPPALAGUDA VILLAGE, Dollar Hills Colony, Dollar Hills, Telangana 500089?\n",
            "Similarity Search:- Consider the following information for the address of adusumilli  kalyan babu:\n",
            "- House Number: FLAT NO 203 PLOT NO 40 PUPPALAGUDA VILLAGE\n",
            "- Building Name: GOLDEN VALLEY\n",
            "- Street Name: DOLLAR HILLS COLONY\n",
            "- Locality: DOLLAR HILLS\n",
            "- Landmark: DOLLAR HILLS GATE NO 1\n",
            "- State: Telangana\n",
            "- District: Ranga Reddy\n",
            "- Pin Code: 500089\n",
            "RESPONSE: PUPPALAGUDA VILLAGE, Dollar Hills Colony, Dollar Hills,\n",
            "---------------------------------------------------------------------------------------------------\n",
            "QUERY: Tell me about the resident of Bachupally, Medchal-Malkajgiri, Telangana 500090, in Hill County, Villa no 235?\n",
            "Similarity Search:- Consider the following information for the address of Rajender reddy kayathi:\n",
            "- House Number: Villa no 235\n",
            "- Building Name: hill county\n",
            "- Street Name: hill county\n",
            "- Locality: bachupally\n",
            "- Landmark: nizampet road\n",
            "- State: Telangana\n",
            "- District: Medchal-Malkajgiri\n",
            "- Pin Code: 500090\n",
            "RESPONSE: Rajender reddy kayathi is a resident of Hill County, bach\n",
            "---------------------------------------------------------------------------------------------------\n",
            "QUERY: What is the current address of Suresh Raju in Miyapur, Hyderabad, Telangana 500049?\n",
            "Similarity Search:- Consider the following information for the address of Suresh Sagar Jayalla:\n",
            "- House Number: H No 189\n",
            "- Building Name: Near New Hafeezpet\n",
            "- Street Name: Krishna Colony\n",
            "- Locality: Miyapur\n",
            "- Landmark: Tirumalgiri\n",
            "- State: Telangana\n",
            "- District: Hyderabad\n",
            "- Pin Code: 500049\n",
            "RESPONSE: The address of Suresh Sagar Jayalla is: - House Number: H\n"
          ]
        }
      ],
      "source": [
        "result_str = \"\"\n",
        "for qur in new_queries_address:\n",
        "    result = Q_A_address(qur)\n",
        "    if result is not None:\n",
        "        result_str += result"
      ]
    },
    {
      "cell_type": "code",
      "execution_count": null,
      "metadata": {
        "colab": {
          "base_uri": "https://localhost:8080/"
        },
        "id": "r2PY9MKj4_og",
        "outputId": "e98cefb6-6223-436e-9eb9-e52abfb2b4c5"
      },
      "outputs": [
        {
          "output_type": "stream",
          "name": "stdout",
          "text": [
            "Collecting flask-ngrok\n",
            "  Downloading flask_ngrok-0.0.25-py3-none-any.whl.metadata (1.8 kB)\n",
            "Requirement already satisfied: Flask>=0.8 in /usr/local/lib/python3.10/dist-packages (from flask-ngrok) (2.2.5)\n",
            "Requirement already satisfied: requests in /usr/local/lib/python3.10/dist-packages (from flask-ngrok) (2.31.0)\n",
            "Requirement already satisfied: Werkzeug>=2.2.2 in /usr/local/lib/python3.10/dist-packages (from Flask>=0.8->flask-ngrok) (3.0.1)\n",
            "Requirement already satisfied: Jinja2>=3.0 in /usr/local/lib/python3.10/dist-packages (from Flask>=0.8->flask-ngrok) (3.1.3)\n",
            "Requirement already satisfied: itsdangerous>=2.0 in /usr/local/lib/python3.10/dist-packages (from Flask>=0.8->flask-ngrok) (2.1.2)\n",
            "Requirement already satisfied: click>=8.0 in /usr/local/lib/python3.10/dist-packages (from Flask>=0.8->flask-ngrok) (8.1.7)\n",
            "Requirement already satisfied: charset-normalizer<4,>=2 in /usr/local/lib/python3.10/dist-packages (from requests->flask-ngrok) (3.3.2)\n",
            "Requirement already satisfied: idna<4,>=2.5 in /usr/local/lib/python3.10/dist-packages (from requests->flask-ngrok) (3.6)\n",
            "Requirement already satisfied: urllib3<3,>=1.21.1 in /usr/local/lib/python3.10/dist-packages (from requests->flask-ngrok) (2.0.7)\n",
            "Requirement already satisfied: certifi>=2017.4.17 in /usr/local/lib/python3.10/dist-packages (from requests->flask-ngrok) (2024.2.2)\n",
            "Requirement already satisfied: MarkupSafe>=2.0 in /usr/local/lib/python3.10/dist-packages (from Jinja2>=3.0->Flask>=0.8->flask-ngrok) (2.1.5)\n",
            "Downloading flask_ngrok-0.0.25-py3-none-any.whl (3.1 kB)\n",
            "Installing collected packages: flask-ngrok\n",
            "Successfully installed flask-ngrok-0.0.25\n",
            "\u001b[33mWARNING: Running pip as the 'root' user can result in broken permissions and conflicting behaviour with the system package manager. It is recommended to use a virtual environment instead: https://pip.pypa.io/warnings/venv\u001b[0m\u001b[33m\n",
            "\u001b[0mCollecting pyngrok\n",
            "  Downloading pyngrok-7.1.4-py3-none-any.whl.metadata (7.6 kB)\n",
            "Requirement already satisfied: PyYAML>=5.1 in /usr/local/lib/python3.10/dist-packages (from pyngrok) (6.0.1)\n",
            "Downloading pyngrok-7.1.4-py3-none-any.whl (22 kB)\n",
            "Installing collected packages: pyngrok\n",
            "Successfully installed pyngrok-7.1.4\n",
            "\u001b[33mWARNING: Running pip as the 'root' user can result in broken permissions and conflicting behaviour with the system package manager. It is recommended to use a virtual environment instead: https://pip.pypa.io/warnings/venv\u001b[0m\u001b[33m\n",
            "\u001b[0m"
          ]
        }
      ],
      "source": [
        "!pip install flask-ngrok\n",
        "!pip install pyngrok"
      ]
    },
    {
      "cell_type": "code",
      "execution_count": null,
      "metadata": {
        "colab": {
          "base_uri": "https://localhost:8080/"
        },
        "id": "SXal9NDAdosD",
        "outputId": "6ac44497-14b3-487a-cd4a-b5edec44cc2a"
      },
      "outputs": [
        {
          "output_type": "stream",
          "name": "stdout",
          "text": [
            "Authtoken saved to configuration file: /root/.config/ngrok/ngrok.yml\n"
          ]
        }
      ],
      "source": [
        "!ngrok authtoken 2cmUOQLCGYB5wszIPqk71uN5XOG_RjVNchLHzTvkuZ716edy"
      ]
    },
    {
      "cell_type": "code",
      "execution_count": null,
      "metadata": {
        "colab": {
          "base_uri": "https://localhost:8080/"
        },
        "id": "19o9EeJMfJ7D",
        "outputId": "6b1879d8-dbeb-45d3-8196-aac33835b714"
      },
      "outputs": [
        {
          "output_type": "stream",
          "name": "stdout",
          "text": [
            "Requirement already satisfied: flask in /usr/local/lib/python3.10/dist-packages (2.2.5)\n",
            "Requirement already satisfied: Werkzeug>=2.2.2 in /usr/local/lib/python3.10/dist-packages (from flask) (3.0.1)\n",
            "Requirement already satisfied: Jinja2>=3.0 in /usr/local/lib/python3.10/dist-packages (from flask) (3.1.3)\n",
            "Requirement already satisfied: itsdangerous>=2.0 in /usr/local/lib/python3.10/dist-packages (from flask) (2.1.2)\n",
            "Requirement already satisfied: click>=8.0 in /usr/local/lib/python3.10/dist-packages (from flask) (8.1.7)\n",
            "Requirement already satisfied: MarkupSafe>=2.0 in /usr/local/lib/python3.10/dist-packages (from Jinja2>=3.0->flask) (2.1.5)\n",
            "\u001b[33mWARNING: Running pip as the 'root' user can result in broken permissions and conflicting behaviour with the system package manager. It is recommended to use a virtual environment instead: https://pip.pypa.io/warnings/venv\u001b[0m\u001b[33m\n",
            "\u001b[0m"
          ]
        }
      ],
      "source": [
        "!pip install flask"
      ]
    },
    {
      "cell_type": "code",
      "execution_count": null,
      "metadata": {
        "id": "_jtLiJvgfKSE"
      },
      "outputs": [],
      "source": [
        "from flask import Flask, render_template, jsonify, request"
      ]
    },
    {
      "cell_type": "code",
      "execution_count": null,
      "metadata": {
        "colab": {
          "base_uri": "https://localhost:8080/"
        },
        "id": "ouGEJKdzmTu6",
        "outputId": "e375ad84-e746-4262-d0a8-202f4111a45d"
      },
      "outputs": [
        {
          "output_type": "stream",
          "name": "stdout",
          "text": [
            "Collecting flask_cors\n",
            "  Downloading Flask_Cors-4.0.0-py2.py3-none-any.whl.metadata (5.4 kB)\n",
            "Requirement already satisfied: Flask>=0.9 in /usr/local/lib/python3.10/dist-packages (from flask_cors) (2.2.5)\n",
            "Requirement already satisfied: Werkzeug>=2.2.2 in /usr/local/lib/python3.10/dist-packages (from Flask>=0.9->flask_cors) (3.0.1)\n",
            "Requirement already satisfied: Jinja2>=3.0 in /usr/local/lib/python3.10/dist-packages (from Flask>=0.9->flask_cors) (3.1.3)\n",
            "Requirement already satisfied: itsdangerous>=2.0 in /usr/local/lib/python3.10/dist-packages (from Flask>=0.9->flask_cors) (2.1.2)\n",
            "Requirement already satisfied: click>=8.0 in /usr/local/lib/python3.10/dist-packages (from Flask>=0.9->flask_cors) (8.1.7)\n",
            "Requirement already satisfied: MarkupSafe>=2.0 in /usr/local/lib/python3.10/dist-packages (from Jinja2>=3.0->Flask>=0.9->flask_cors) (2.1.5)\n",
            "Downloading Flask_Cors-4.0.0-py2.py3-none-any.whl (14 kB)\n",
            "Installing collected packages: flask_cors\n",
            "Successfully installed flask_cors-4.0.0\n",
            "\u001b[33mWARNING: Running pip as the 'root' user can result in broken permissions and conflicting behaviour with the system package manager. It is recommended to use a virtual environment instead: https://pip.pypa.io/warnings/venv\u001b[0m\u001b[33m\n",
            "\u001b[0m"
          ]
        }
      ],
      "source": [
        "!pip install flask_cors\n",
        "from flask_cors import CORS"
      ]
    },
    {
      "cell_type": "code",
      "source": [
        "!pip install twilio"
      ],
      "metadata": {
        "colab": {
          "base_uri": "https://localhost:8080/"
        },
        "id": "b9z0lYh0IQh2",
        "outputId": "73f24524-95f9-408a-c30d-a299a97c8a15"
      },
      "execution_count": null,
      "outputs": [
        {
          "output_type": "stream",
          "name": "stdout",
          "text": [
            "Collecting twilio\n",
            "  Downloading twilio-9.0.0-py2.py3-none-any.whl.metadata (12 kB)\n",
            "Requirement already satisfied: requests>=2.0.0 in /usr/local/lib/python3.10/dist-packages (from twilio) (2.31.0)\n",
            "Requirement already satisfied: PyJWT<3.0.0,>=2.0.0 in /usr/lib/python3/dist-packages (from twilio) (2.3.0)\n",
            "Requirement already satisfied: aiohttp>=3.8.4 in /usr/local/lib/python3.10/dist-packages (from twilio) (3.9.3)\n",
            "Collecting aiohttp-retry>=2.8.3 (from twilio)\n",
            "  Downloading aiohttp_retry-2.8.3-py3-none-any.whl.metadata (8.9 kB)\n",
            "Requirement already satisfied: aiosignal>=1.1.2 in /usr/local/lib/python3.10/dist-packages (from aiohttp>=3.8.4->twilio) (1.3.1)\n",
            "Requirement already satisfied: attrs>=17.3.0 in /usr/local/lib/python3.10/dist-packages (from aiohttp>=3.8.4->twilio) (23.2.0)\n",
            "Requirement already satisfied: frozenlist>=1.1.1 in /usr/local/lib/python3.10/dist-packages (from aiohttp>=3.8.4->twilio) (1.4.1)\n",
            "Requirement already satisfied: multidict<7.0,>=4.5 in /usr/local/lib/python3.10/dist-packages (from aiohttp>=3.8.4->twilio) (6.0.5)\n",
            "Requirement already satisfied: yarl<2.0,>=1.0 in /usr/local/lib/python3.10/dist-packages (from aiohttp>=3.8.4->twilio) (1.9.4)\n",
            "Requirement already satisfied: async-timeout<5.0,>=4.0 in /usr/local/lib/python3.10/dist-packages (from aiohttp>=3.8.4->twilio) (4.0.3)\n",
            "Requirement already satisfied: charset-normalizer<4,>=2 in /usr/local/lib/python3.10/dist-packages (from requests>=2.0.0->twilio) (3.3.2)\n",
            "Requirement already satisfied: idna<4,>=2.5 in /usr/local/lib/python3.10/dist-packages (from requests>=2.0.0->twilio) (3.6)\n",
            "Requirement already satisfied: urllib3<3,>=1.21.1 in /usr/local/lib/python3.10/dist-packages (from requests>=2.0.0->twilio) (2.0.7)\n",
            "Requirement already satisfied: certifi>=2017.4.17 in /usr/local/lib/python3.10/dist-packages (from requests>=2.0.0->twilio) (2024.2.2)\n",
            "Downloading twilio-9.0.0-py2.py3-none-any.whl (1.7 MB)\n",
            "\u001b[2K   \u001b[90m━━━━━━━━━━━━━━━━━━━━━━━━━━━━━━━━━━━━━━━━\u001b[0m \u001b[32m1.7/1.7 MB\u001b[0m \u001b[31m8.4 MB/s\u001b[0m eta \u001b[36m0:00:00\u001b[0m\n",
            "\u001b[?25hDownloading aiohttp_retry-2.8.3-py3-none-any.whl (9.8 kB)\n",
            "Installing collected packages: aiohttp-retry, twilio\n",
            "Successfully installed aiohttp-retry-2.8.3 twilio-9.0.0\n",
            "\u001b[33mWARNING: Running pip as the 'root' user can result in broken permissions and conflicting behaviour with the system package manager. It is recommended to use a virtual environment instead: https://pip.pypa.io/warnings/venv\u001b[0m\u001b[33m\n",
            "\u001b[0m"
          ]
        }
      ]
    },
    {
      "cell_type": "code",
      "execution_count": null,
      "metadata": {
        "colab": {
          "base_uri": "https://localhost:8080/"
        },
        "id": "Fsu0XoTVdtj-",
        "outputId": "5de842d5-2b04-48ce-d915-a447ee70eef9"
      },
      "outputs": [
        {
          "output_type": "stream",
          "name": "stdout",
          "text": [
            " * Tunnel URL: NgrokTunnel: \"https://90ba-35-223-57-214.ngrok-free.app\" -> \"http://localhost:5000\"\n"
          ]
        }
      ],
      "source": [
        "from pyngrok import ngrok\n",
        "\n",
        "# Set the port where your Flask app is running\n",
        "port = 5000\n",
        "\n",
        "# Start ngrok\n",
        "public_url = ngrok.connect(port)\n",
        "print(' * Tunnel URL:', public_url)"
      ]
    },
    {
      "cell_type": "code",
      "execution_count": null,
      "metadata": {
        "colab": {
          "base_uri": "https://localhost:8080/"
        },
        "id": "qLj585bpZe_4",
        "outputId": "897d74a7-75e4-4ab8-df7e-5382a2811942"
      },
      "outputs": [
        {
          "metadata": {
            "tags": null
          },
          "name": "stdout",
          "output_type": "stream",
          "text": [
            " * Serving Flask app '__main__'\n",
            " * Debug mode: off\n"
          ]
        },
        {
          "metadata": {
            "tags": null
          },
          "name": "stderr",
          "output_type": "stream",
          "text": [
            "INFO:werkzeug:\u001b[31m\u001b[1mWARNING: This is a development server. Do not use it in a production deployment. Use a production WSGI server instead.\u001b[0m\n",
            " * Running on http://127.0.0.1:5000\n",
            "INFO:werkzeug:\u001b[33mPress CTRL+C to quit\u001b[0m\n"
          ]
        },
        {
          "metadata": {
            "tags": null
          },
          "name": "stdout",
          "output_type": "stream",
          "text": [
            " * Running on http://90ba-35-223-57-214.ngrok-free.app\n",
            " * Traffic stats available on http://127.0.0.1:4040\n"
          ]
        },
        {
          "metadata": {
            "tags": null
          },
          "name": "stderr",
          "output_type": "stream",
          "text": [
            "INFO:werkzeug:127.0.0.1 - - [07/Mar/2024 18:52:22] \"GET / HTTP/1.1\" 200 -\n"
          ]
        },
        {
          "metadata": {
            "tags": null
          },
          "name": "stdout",
          "output_type": "stream",
          "text": [
            "hiii\n"
          ]
        },
        {
          "metadata": {
            "tags": null
          },
          "name": "stderr",
          "output_type": "stream",
          "text": [
            "INFO:werkzeug:127.0.0.1 - - [07/Mar/2024 18:52:22] \"\u001b[33mGET /favicon.ico HTTP/1.1\u001b[0m\" 404 -\n"
          ]
        },
        {
          "metadata": {
            "tags": null
          },
          "name": "stdout",
          "output_type": "stream",
          "text": [
            "im in\n",
            "<Request 'http://90ba-35-223-57-214.ngrok-free.app/api' [POST]> 112\n",
            "nooo\n",
            "dsh 199\n",
            "---------------------------------------------------------------------------------------------------\n",
            "QUERY: dsh\n",
            "Similarity Search:- Consider the following information for the address of SHIRDI DEVELOPERS:\n",
            "- Mandal: \n",
            "- Village/City/Town: Dhasalgudem\n",
            "- Street: Dhasalgudem\n",
            "- Locality: 508001\n",
            "- State: Suryapet\n",
            "- District: Suryapet\n",
            "- Pin Code:\n",
            "RESPONSE: The address of Shirdi Developers is Dhasalgudem, Surya\n",
            "The address of Shirdi Developers is Dhasalgudem, Surya\n"
          ]
        },
        {
          "metadata": {
            "tags": null
          },
          "name": "stderr",
          "output_type": "stream",
          "text": [
            "INFO:werkzeug:127.0.0.1 - - [07/Mar/2024 18:52:51] \"POST /api HTTP/1.1\" 200 -\n"
          ]
        },
        {
          "metadata": {
            "tags": null
          },
          "name": "stdout",
          "output_type": "stream",
          "text": [
            "im in\n",
            "<Request 'http://90ba-35-223-57-214.ngrok-free.app/api' [POST]> 112\n",
            "nooo\n",
            "tell me about the person residing in mallial, jagithyal, telangana 505452, with the address 7-1-95? 199\n"
          ]
        },
        {
          "metadata": {
            "tags": null
          },
          "name": "stderr",
          "output_type": "stream",
          "text": [
            "INFO:werkzeug:127.0.0.1 - - [07/Mar/2024 18:53:37] \"POST /api HTTP/1.1\" 200 -\n"
          ]
        },
        {
          "output_type": "stream",
          "name": "stdout",
          "text": [
            "---------------------------------------------------------------------------------------------------\n",
            "QUERY: tell me about the person residing in mallial, jagithyal, telangana 505452, with the address 7-1-95?\n",
            "Similarity Search:- Consider the following information for the address of GAJULA  KRISHNA MOHAN:\n",
            "- House Number: 7-1-95\n",
            "- Building Name: NA\n",
            "- Street Name: NA\n",
            "- Locality: MALLIAL\n",
            "- Landmark: NA\n",
            "- State: Telangana\n",
            "- District: Jagithyal\n",
            "- Pin Code: 505452\n",
            "RESPONSE: GAJULA KRISHNA MOHAN is a resident of MALLIAL,\n",
            "GAJULA KRISHNA MOHAN is a resident of MALLIAL,\n",
            "im in\n",
            "<Request 'http://90ba-35-223-57-214.ngrok-free.app/api' [POST]> 112\n",
            "nooo\n",
            "tell me about the person residing in mallial, jagithyal, telangana 505452, with the address 7-1-95? 199\n"
          ]
        },
        {
          "output_type": "stream",
          "name": "stderr",
          "text": [
            "INFO:werkzeug:127.0.0.1 - - [07/Mar/2024 18:54:24] \"POST /api HTTP/1.1\" 200 -\n"
          ]
        },
        {
          "output_type": "stream",
          "name": "stdout",
          "text": [
            "---------------------------------------------------------------------------------------------------\n",
            "QUERY: tell me about the person residing in mallial, jagithyal, telangana 505452, with the address 7-1-95?\n",
            "Similarity Search:- Consider the following information for the address of GAJULA  KRISHNA MOHAN:\n",
            "- House Number: 7-1-95\n",
            "- Building Name: NA\n",
            "- Street Name: NA\n",
            "- Locality: MALLIAL\n",
            "- Landmark: NA\n",
            "- State: Telangana\n",
            "- District: Jagithyal\n",
            "- Pin Code: 505452\n",
            "RESPONSE: GAJULA KRISHNA MOHAN is a resident of MALLIAL,\n",
            "GAJULA KRISHNA MOHAN is a resident of MALLIAL,\n",
            "im in\n",
            "<Request 'http://90ba-35-223-57-214.ngrok-free.app/api' [POST]> 112\n",
            "nooo\n",
            "what is the current address of suresh raju in miyapur, hyderabad, telangana 500049? 199\n"
          ]
        },
        {
          "output_type": "stream",
          "name": "stderr",
          "text": [
            "INFO:werkzeug:127.0.0.1 - - [07/Mar/2024 18:54:55] \"POST /api HTTP/1.1\" 200 -\n"
          ]
        },
        {
          "output_type": "stream",
          "name": "stdout",
          "text": [
            "---------------------------------------------------------------------------------------------------\n",
            "QUERY: what is the current address of suresh raju in miyapur, hyderabad, telangana 500049?\n",
            "Similarity Search:- Consider the following information for the address of MUDUNURI  SURESH RAJU:\n",
            "- House Number: FLAT NO 107\n",
            "- Building Name: SAI SIGNATURE APT\n",
            "- Street Name: MAYURI NAGAR\n",
            "- Locality: MIYAPUR\n",
            "- Landmark: TIRUMALAGIRI\n",
            "- State: Telangana\n",
            "- District: Hyderabad\n",
            "- Pin Code: 500049\n",
            "RESPONSE: MAYURI NAGAR, MIYAPURT, HYDERABAD, TElang\n",
            "MAYURI NAGAR, MIYAPURT, HYDERABAD, TElang\n",
            "im in\n",
            "<Request 'http://90ba-35-223-57-214.ngrok-free.app/api' [POST]> 112\n",
            "nooo\n",
            "what is the postal code for sri balaji constructions's residence? 199\n"
          ]
        },
        {
          "output_type": "stream",
          "name": "stderr",
          "text": [
            "INFO:werkzeug:127.0.0.1 - - [07/Mar/2024 18:55:18] \"POST /api HTTP/1.1\" 200 -\n"
          ]
        },
        {
          "output_type": "stream",
          "name": "stdout",
          "text": [
            "---------------------------------------------------------------------------------------------------\n",
            "QUERY: what is the postal code for sri balaji constructions's residence?\n",
            "Similarity Search:- Consider the following information for the address of SRI BALAJI CONSTRUCTIONS:\n",
            "- Mandal: \n",
            "- Village/City/Town: \n",
            "- Street: HAFEEZPET\n",
            "- Locality: SERILINGAMPALLY\n",
            "- State: Telangana\n",
            "- District: Hyderabad\n",
            "- Pin Code: 500049\n",
            "RESPONSE: SERILINGAMPALLY, TEHRANGA - pincode is\n",
            "SERILINGAMPALLY, TEHRANGA - pincode is\n",
            "im in\n",
            "<Request 'http://90ba-35-223-57-214.ngrok-free.app/api' [POST]> 112\n",
            "nooo\n",
            "what is the current address of bliss homes? 199\n"
          ]
        },
        {
          "output_type": "stream",
          "name": "stderr",
          "text": [
            "INFO:werkzeug:127.0.0.1 - - [07/Mar/2024 18:55:43] \"POST /api HTTP/1.1\" 200 -\n"
          ]
        },
        {
          "output_type": "stream",
          "name": "stdout",
          "text": [
            "---------------------------------------------------------------------------------------------------\n",
            "QUERY: what is the current address of bliss homes?\n",
            "Similarity Search:- Consider the following information for the address of BLISS HOMES:\n",
            "- Mandal: \n",
            "- Village/City/Town: \n",
            "- Street: PADMARAO NAGAR 18\n",
            "- Locality: PADMARAO NAGAR 18\n",
            "- State: Telangana\n",
            "- District: Hyderabad\n",
            "- Pin Code: 500003\n",
            "RESPONSE: BLISS HOMES is located in PADMARAO NAGAR 18 in Hyderabad.\n",
            "BLISS HOMES is located in PADMARAO NAGAR 18 in Hyderabad.\n",
            "im in\n",
            "<Request 'http://90ba-35-223-57-214.ngrok-free.app/api' [POST]> 112\n",
            "nooo\n",
            "in which state does s a developers currently reside? 199\n"
          ]
        },
        {
          "output_type": "stream",
          "name": "stderr",
          "text": [
            "INFO:werkzeug:127.0.0.1 - - [07/Mar/2024 18:56:15] \"POST /api HTTP/1.1\" 200 -\n"
          ]
        },
        {
          "output_type": "stream",
          "name": "stdout",
          "text": [
            "---------------------------------------------------------------------------------------------------\n",
            "QUERY: in which state does s a developers currently reside?\n",
            "Similarity Search:- Consider the following information for the address of ABC DEVELOPERS:\n",
            "- Mandal: \n",
            "- Village/City/Town: SAI NAGAR ROAD\n",
            "- Street: SAI NAGAR ROAD\n",
            "- Locality: 507002\n",
            "- State: Khammam\n",
            "- District: \n",
            "- Pin Code:\n",
            "RESPONSE: Khammam is the state where ABC DEVELOPERS is located.\n",
            "Khammam is the state where ABC DEVELOPERS is located.\n",
            "im in\n",
            "<Request 'http://90ba-35-223-57-214.ngrok-free.app/api' [POST]> 112\n",
            "nooo\n",
            "what is the postal code for rudraksh megacorp private limited's current residence? 199\n"
          ]
        },
        {
          "output_type": "stream",
          "name": "stderr",
          "text": [
            "INFO:werkzeug:127.0.0.1 - - [07/Mar/2024 18:57:12] \"POST /api HTTP/1.1\" 200 -\n"
          ]
        },
        {
          "output_type": "stream",
          "name": "stdout",
          "text": [
            "---------------------------------------------------------------------------------------------------\n",
            "QUERY: what is the postal code for rudraksh megacorp private limited's current residence?\n",
            "Similarity Search:- Consider the following information for the address of Rudraksh MegaCorp Private Limited:\n",
            "- Mandal: Shamirpet\n",
            "- Village/City/Town: \n",
            "- Street: Shamirpet Village\n",
            "- Locality: Shamirpet Village\n",
            "- State: Telangana\n",
            "- District: Medchal-Malkajgiri\n",
            "- Pin Code: 500078\n",
            "RESPONSE: 500078 is the postal code of Rudraksh MegaCorp Private Limited's\n",
            "500078 is the postal code of Rudraksh MegaCorp Private Limited's\n"
          ]
        }
      ],
      "source": [
        "from flask_ngrok import run_with_ngrok\n",
        "from flask import Flask\n",
        "\n",
        "app = Flask(__name__)\n",
        "run_with_ngrok(app)  # Start ngrok when app is run\n",
        "CORS(app)\n",
        "\n",
        "@app.route(\"/\")\n",
        "def hello():\n",
        "\n",
        "  print(\"hiii\")\n",
        "  return \"Hello World!\"\n",
        "\n",
        "@app.route(\"/api\", methods=['POST'])\n",
        "def receive_data():\n",
        "  # print(\"hellow\")\n",
        "  print(\"im in\")\n",
        "  data = request\n",
        "  response_data = {'result': 'Data received successfully'}\n",
        "  print(data,\"112\")\n",
        "  # print(request.json)\n",
        "  print(\"nooo\")\n",
        "  # data = request.json\n",
        "  data = request.values.get('Body', '').lower()\n",
        "  print(data,\"199\")\n",
        "  # data = data + \"kumar\"\n",
        "  data = Q_A_address(data)\n",
        "  print(data)\n",
        "  message = client.messages.create(\n",
        "  from_='whatsapp:+14155238886',\n",
        "  body=data,\n",
        "  to='whatsapp:+918595973928'\n",
        ")\n",
        "  return jsonify(data)\n",
        "\n",
        "if __name__ == \"__main__\":\n",
        "  app.run()"
      ]
    },
    {
      "cell_type": "code",
      "execution_count": null,
      "metadata": {
        "id": "pCUfJpplZobM",
        "colab": {
          "base_uri": "https://localhost:8080/"
        },
        "outputId": "94895654-71f2-4fd2-d917-4576dbf00ca0"
      },
      "outputs": [
        {
          "output_type": "stream",
          "name": "stdout",
          "text": [
            "\u001b[33mWARNING: Running pip as the 'root' user can result in broken permissions and conflicting behaviour with the system package manager. It is recommended to use a virtual environment instead: https://pip.pypa.io/warnings/venv\u001b[0m\u001b[33m\n",
            "\u001b[0m"
          ]
        }
      ],
      "source": [
        "%pip install --upgrade --quiet  gpt4all > /dev/null"
      ]
    },
    {
      "cell_type": "code",
      "source": [
        "from langchain_community.embeddings import GPT4AllEmbeddings"
      ],
      "metadata": {
        "id": "ClBTAcXppVYV"
      },
      "execution_count": null,
      "outputs": []
    },
    {
      "cell_type": "code",
      "source": [
        "embeddings = GPT4AllEmbeddings()"
      ],
      "metadata": {
        "id": "On5iC0MKpa_B"
      },
      "execution_count": null,
      "outputs": []
    },
    {
      "cell_type": "code",
      "source": [
        "import pickle\n",
        "\n",
        "# Open the PKL file in binary mode\n",
        "with open('/content/drive/MyDrive/Address_embedded/index.pkl', 'rb') as file:\n",
        "    # Load the object from the file\n",
        "    your_object = pickle.load(file)\n",
        "\n",
        "# Now, 'your_object' contains the data from the PKL file\n"
      ],
      "metadata": {
        "id": "jqiXGfZWpdcK"
      },
      "execution_count": null,
      "outputs": []
    },
    {
      "cell_type": "code",
      "source": [],
      "metadata": {
        "id": "-lkMC7m0rtV7"
      },
      "execution_count": null,
      "outputs": []
    }
  ],
  "metadata": {
    "colab": {
      "provenance": []
    },
    "kernelspec": {
      "display_name": "Python 3",
      "name": "python3"
    },
    "language_info": {
      "name": "python"
    },
    "widgets": {
      "application/vnd.jupyter.widget-state+json": {
        "732cb25c7b744f13883a90a7a5956a13": {
          "model_module": "@jupyter-widgets/controls",
          "model_name": "HBoxModel",
          "model_module_version": "1.5.0",
          "state": {
            "_dom_classes": [],
            "_model_module": "@jupyter-widgets/controls",
            "_model_module_version": "1.5.0",
            "_model_name": "HBoxModel",
            "_view_count": null,
            "_view_module": "@jupyter-widgets/controls",
            "_view_module_version": "1.5.0",
            "_view_name": "HBoxView",
            "box_style": "",
            "children": [
              "IPY_MODEL_606f46caf7824c0f8ad96c063f82126c",
              "IPY_MODEL_b72617e2978a43da9064e715ab350cd7",
              "IPY_MODEL_a616cff8b35b498f8c892c76d345ef6c"
            ],
            "layout": "IPY_MODEL_e43fea51dcc74c3fa2041120d0168aa7"
          }
        },
        "606f46caf7824c0f8ad96c063f82126c": {
          "model_module": "@jupyter-widgets/controls",
          "model_name": "HTMLModel",
          "model_module_version": "1.5.0",
          "state": {
            "_dom_classes": [],
            "_model_module": "@jupyter-widgets/controls",
            "_model_module_version": "1.5.0",
            "_model_name": "HTMLModel",
            "_view_count": null,
            "_view_module": "@jupyter-widgets/controls",
            "_view_module_version": "1.5.0",
            "_view_name": "HTMLView",
            "description": "",
            "description_tooltip": null,
            "layout": "IPY_MODEL_4401c2510da84c9caf9cb4beef50f498",
            "placeholder": "​",
            "style": "IPY_MODEL_13b93af953f849df84b38d97ef714b75",
            "value": "spiece.model: 100%"
          }
        },
        "b72617e2978a43da9064e715ab350cd7": {
          "model_module": "@jupyter-widgets/controls",
          "model_name": "FloatProgressModel",
          "model_module_version": "1.5.0",
          "state": {
            "_dom_classes": [],
            "_model_module": "@jupyter-widgets/controls",
            "_model_module_version": "1.5.0",
            "_model_name": "FloatProgressModel",
            "_view_count": null,
            "_view_module": "@jupyter-widgets/controls",
            "_view_module_version": "1.5.0",
            "_view_name": "ProgressView",
            "bar_style": "success",
            "description": "",
            "description_tooltip": null,
            "layout": "IPY_MODEL_7ee110ca35de44cebf9be8617283c855",
            "max": 791656,
            "min": 0,
            "orientation": "horizontal",
            "style": "IPY_MODEL_cee2939d376c4a3693e443f38ac65dec",
            "value": 791656
          }
        },
        "a616cff8b35b498f8c892c76d345ef6c": {
          "model_module": "@jupyter-widgets/controls",
          "model_name": "HTMLModel",
          "model_module_version": "1.5.0",
          "state": {
            "_dom_classes": [],
            "_model_module": "@jupyter-widgets/controls",
            "_model_module_version": "1.5.0",
            "_model_name": "HTMLModel",
            "_view_count": null,
            "_view_module": "@jupyter-widgets/controls",
            "_view_module_version": "1.5.0",
            "_view_name": "HTMLView",
            "description": "",
            "description_tooltip": null,
            "layout": "IPY_MODEL_e362354ef5024864af7d07ddb37846d1",
            "placeholder": "​",
            "style": "IPY_MODEL_58b45724256a40a0a6dee98923b8f9b7",
            "value": " 792k/792k [00:00&lt;00:00, 9.42MB/s]"
          }
        },
        "e43fea51dcc74c3fa2041120d0168aa7": {
          "model_module": "@jupyter-widgets/base",
          "model_name": "LayoutModel",
          "model_module_version": "1.2.0",
          "state": {
            "_model_module": "@jupyter-widgets/base",
            "_model_module_version": "1.2.0",
            "_model_name": "LayoutModel",
            "_view_count": null,
            "_view_module": "@jupyter-widgets/base",
            "_view_module_version": "1.2.0",
            "_view_name": "LayoutView",
            "align_content": null,
            "align_items": null,
            "align_self": null,
            "border": null,
            "bottom": null,
            "display": null,
            "flex": null,
            "flex_flow": null,
            "grid_area": null,
            "grid_auto_columns": null,
            "grid_auto_flow": null,
            "grid_auto_rows": null,
            "grid_column": null,
            "grid_gap": null,
            "grid_row": null,
            "grid_template_areas": null,
            "grid_template_columns": null,
            "grid_template_rows": null,
            "height": null,
            "justify_content": null,
            "justify_items": null,
            "left": null,
            "margin": null,
            "max_height": null,
            "max_width": null,
            "min_height": null,
            "min_width": null,
            "object_fit": null,
            "object_position": null,
            "order": null,
            "overflow": null,
            "overflow_x": null,
            "overflow_y": null,
            "padding": null,
            "right": null,
            "top": null,
            "visibility": null,
            "width": null
          }
        },
        "4401c2510da84c9caf9cb4beef50f498": {
          "model_module": "@jupyter-widgets/base",
          "model_name": "LayoutModel",
          "model_module_version": "1.2.0",
          "state": {
            "_model_module": "@jupyter-widgets/base",
            "_model_module_version": "1.2.0",
            "_model_name": "LayoutModel",
            "_view_count": null,
            "_view_module": "@jupyter-widgets/base",
            "_view_module_version": "1.2.0",
            "_view_name": "LayoutView",
            "align_content": null,
            "align_items": null,
            "align_self": null,
            "border": null,
            "bottom": null,
            "display": null,
            "flex": null,
            "flex_flow": null,
            "grid_area": null,
            "grid_auto_columns": null,
            "grid_auto_flow": null,
            "grid_auto_rows": null,
            "grid_column": null,
            "grid_gap": null,
            "grid_row": null,
            "grid_template_areas": null,
            "grid_template_columns": null,
            "grid_template_rows": null,
            "height": null,
            "justify_content": null,
            "justify_items": null,
            "left": null,
            "margin": null,
            "max_height": null,
            "max_width": null,
            "min_height": null,
            "min_width": null,
            "object_fit": null,
            "object_position": null,
            "order": null,
            "overflow": null,
            "overflow_x": null,
            "overflow_y": null,
            "padding": null,
            "right": null,
            "top": null,
            "visibility": null,
            "width": null
          }
        },
        "13b93af953f849df84b38d97ef714b75": {
          "model_module": "@jupyter-widgets/controls",
          "model_name": "DescriptionStyleModel",
          "model_module_version": "1.5.0",
          "state": {
            "_model_module": "@jupyter-widgets/controls",
            "_model_module_version": "1.5.0",
            "_model_name": "DescriptionStyleModel",
            "_view_count": null,
            "_view_module": "@jupyter-widgets/base",
            "_view_module_version": "1.2.0",
            "_view_name": "StyleView",
            "description_width": ""
          }
        },
        "7ee110ca35de44cebf9be8617283c855": {
          "model_module": "@jupyter-widgets/base",
          "model_name": "LayoutModel",
          "model_module_version": "1.2.0",
          "state": {
            "_model_module": "@jupyter-widgets/base",
            "_model_module_version": "1.2.0",
            "_model_name": "LayoutModel",
            "_view_count": null,
            "_view_module": "@jupyter-widgets/base",
            "_view_module_version": "1.2.0",
            "_view_name": "LayoutView",
            "align_content": null,
            "align_items": null,
            "align_self": null,
            "border": null,
            "bottom": null,
            "display": null,
            "flex": null,
            "flex_flow": null,
            "grid_area": null,
            "grid_auto_columns": null,
            "grid_auto_flow": null,
            "grid_auto_rows": null,
            "grid_column": null,
            "grid_gap": null,
            "grid_row": null,
            "grid_template_areas": null,
            "grid_template_columns": null,
            "grid_template_rows": null,
            "height": null,
            "justify_content": null,
            "justify_items": null,
            "left": null,
            "margin": null,
            "max_height": null,
            "max_width": null,
            "min_height": null,
            "min_width": null,
            "object_fit": null,
            "object_position": null,
            "order": null,
            "overflow": null,
            "overflow_x": null,
            "overflow_y": null,
            "padding": null,
            "right": null,
            "top": null,
            "visibility": null,
            "width": null
          }
        },
        "cee2939d376c4a3693e443f38ac65dec": {
          "model_module": "@jupyter-widgets/controls",
          "model_name": "ProgressStyleModel",
          "model_module_version": "1.5.0",
          "state": {
            "_model_module": "@jupyter-widgets/controls",
            "_model_module_version": "1.5.0",
            "_model_name": "ProgressStyleModel",
            "_view_count": null,
            "_view_module": "@jupyter-widgets/base",
            "_view_module_version": "1.2.0",
            "_view_name": "StyleView",
            "bar_color": null,
            "description_width": ""
          }
        },
        "e362354ef5024864af7d07ddb37846d1": {
          "model_module": "@jupyter-widgets/base",
          "model_name": "LayoutModel",
          "model_module_version": "1.2.0",
          "state": {
            "_model_module": "@jupyter-widgets/base",
            "_model_module_version": "1.2.0",
            "_model_name": "LayoutModel",
            "_view_count": null,
            "_view_module": "@jupyter-widgets/base",
            "_view_module_version": "1.2.0",
            "_view_name": "LayoutView",
            "align_content": null,
            "align_items": null,
            "align_self": null,
            "border": null,
            "bottom": null,
            "display": null,
            "flex": null,
            "flex_flow": null,
            "grid_area": null,
            "grid_auto_columns": null,
            "grid_auto_flow": null,
            "grid_auto_rows": null,
            "grid_column": null,
            "grid_gap": null,
            "grid_row": null,
            "grid_template_areas": null,
            "grid_template_columns": null,
            "grid_template_rows": null,
            "height": null,
            "justify_content": null,
            "justify_items": null,
            "left": null,
            "margin": null,
            "max_height": null,
            "max_width": null,
            "min_height": null,
            "min_width": null,
            "object_fit": null,
            "object_position": null,
            "order": null,
            "overflow": null,
            "overflow_x": null,
            "overflow_y": null,
            "padding": null,
            "right": null,
            "top": null,
            "visibility": null,
            "width": null
          }
        },
        "58b45724256a40a0a6dee98923b8f9b7": {
          "model_module": "@jupyter-widgets/controls",
          "model_name": "DescriptionStyleModel",
          "model_module_version": "1.5.0",
          "state": {
            "_model_module": "@jupyter-widgets/controls",
            "_model_module_version": "1.5.0",
            "_model_name": "DescriptionStyleModel",
            "_view_count": null,
            "_view_module": "@jupyter-widgets/base",
            "_view_module_version": "1.2.0",
            "_view_name": "StyleView",
            "description_width": ""
          }
        },
        "4eb01c7ecbad4beba11e3b51c36ed06d": {
          "model_module": "@jupyter-widgets/controls",
          "model_name": "HBoxModel",
          "model_module_version": "1.5.0",
          "state": {
            "_dom_classes": [],
            "_model_module": "@jupyter-widgets/controls",
            "_model_module_version": "1.5.0",
            "_model_name": "HBoxModel",
            "_view_count": null,
            "_view_module": "@jupyter-widgets/controls",
            "_view_module_version": "1.5.0",
            "_view_name": "HBoxView",
            "box_style": "",
            "children": [
              "IPY_MODEL_bb78c5db12c745fd856faffc1e3abe07",
              "IPY_MODEL_adb55633a5ed4a2f8386f8596c9e521c",
              "IPY_MODEL_ea7cd573ce2c453e970391adcd9fef86"
            ],
            "layout": "IPY_MODEL_1e5203d3f69c4a1b971e795ecc8d0260"
          }
        },
        "bb78c5db12c745fd856faffc1e3abe07": {
          "model_module": "@jupyter-widgets/controls",
          "model_name": "HTMLModel",
          "model_module_version": "1.5.0",
          "state": {
            "_dom_classes": [],
            "_model_module": "@jupyter-widgets/controls",
            "_model_module_version": "1.5.0",
            "_model_name": "HTMLModel",
            "_view_count": null,
            "_view_module": "@jupyter-widgets/controls",
            "_view_module_version": "1.5.0",
            "_view_name": "HTMLView",
            "description": "",
            "description_tooltip": null,
            "layout": "IPY_MODEL_d931f4530a6c479b92e7c62f89861125",
            "placeholder": "​",
            "style": "IPY_MODEL_69a4eadc4710412da1d1aa8d74684978",
            "value": "special_tokens_map.json: 100%"
          }
        },
        "adb55633a5ed4a2f8386f8596c9e521c": {
          "model_module": "@jupyter-widgets/controls",
          "model_name": "FloatProgressModel",
          "model_module_version": "1.5.0",
          "state": {
            "_dom_classes": [],
            "_model_module": "@jupyter-widgets/controls",
            "_model_module_version": "1.5.0",
            "_model_name": "FloatProgressModel",
            "_view_count": null,
            "_view_module": "@jupyter-widgets/controls",
            "_view_module_version": "1.5.0",
            "_view_name": "ProgressView",
            "bar_style": "success",
            "description": "",
            "description_tooltip": null,
            "layout": "IPY_MODEL_db541302927e4631a2ed1c377fc9ca30",
            "max": 2201,
            "min": 0,
            "orientation": "horizontal",
            "style": "IPY_MODEL_e7b694551ba44403941d4f8073664b70",
            "value": 2201
          }
        },
        "ea7cd573ce2c453e970391adcd9fef86": {
          "model_module": "@jupyter-widgets/controls",
          "model_name": "HTMLModel",
          "model_module_version": "1.5.0",
          "state": {
            "_dom_classes": [],
            "_model_module": "@jupyter-widgets/controls",
            "_model_module_version": "1.5.0",
            "_model_name": "HTMLModel",
            "_view_count": null,
            "_view_module": "@jupyter-widgets/controls",
            "_view_module_version": "1.5.0",
            "_view_name": "HTMLView",
            "description": "",
            "description_tooltip": null,
            "layout": "IPY_MODEL_368f14814cee41d8914f46215580e6c6",
            "placeholder": "​",
            "style": "IPY_MODEL_28b818bda2eb4999af6e2892e0c39337",
            "value": " 2.20k/2.20k [00:00&lt;00:00, 111kB/s]"
          }
        },
        "1e5203d3f69c4a1b971e795ecc8d0260": {
          "model_module": "@jupyter-widgets/base",
          "model_name": "LayoutModel",
          "model_module_version": "1.2.0",
          "state": {
            "_model_module": "@jupyter-widgets/base",
            "_model_module_version": "1.2.0",
            "_model_name": "LayoutModel",
            "_view_count": null,
            "_view_module": "@jupyter-widgets/base",
            "_view_module_version": "1.2.0",
            "_view_name": "LayoutView",
            "align_content": null,
            "align_items": null,
            "align_self": null,
            "border": null,
            "bottom": null,
            "display": null,
            "flex": null,
            "flex_flow": null,
            "grid_area": null,
            "grid_auto_columns": null,
            "grid_auto_flow": null,
            "grid_auto_rows": null,
            "grid_column": null,
            "grid_gap": null,
            "grid_row": null,
            "grid_template_areas": null,
            "grid_template_columns": null,
            "grid_template_rows": null,
            "height": null,
            "justify_content": null,
            "justify_items": null,
            "left": null,
            "margin": null,
            "max_height": null,
            "max_width": null,
            "min_height": null,
            "min_width": null,
            "object_fit": null,
            "object_position": null,
            "order": null,
            "overflow": null,
            "overflow_x": null,
            "overflow_y": null,
            "padding": null,
            "right": null,
            "top": null,
            "visibility": null,
            "width": null
          }
        },
        "d931f4530a6c479b92e7c62f89861125": {
          "model_module": "@jupyter-widgets/base",
          "model_name": "LayoutModel",
          "model_module_version": "1.2.0",
          "state": {
            "_model_module": "@jupyter-widgets/base",
            "_model_module_version": "1.2.0",
            "_model_name": "LayoutModel",
            "_view_count": null,
            "_view_module": "@jupyter-widgets/base",
            "_view_module_version": "1.2.0",
            "_view_name": "LayoutView",
            "align_content": null,
            "align_items": null,
            "align_self": null,
            "border": null,
            "bottom": null,
            "display": null,
            "flex": null,
            "flex_flow": null,
            "grid_area": null,
            "grid_auto_columns": null,
            "grid_auto_flow": null,
            "grid_auto_rows": null,
            "grid_column": null,
            "grid_gap": null,
            "grid_row": null,
            "grid_template_areas": null,
            "grid_template_columns": null,
            "grid_template_rows": null,
            "height": null,
            "justify_content": null,
            "justify_items": null,
            "left": null,
            "margin": null,
            "max_height": null,
            "max_width": null,
            "min_height": null,
            "min_width": null,
            "object_fit": null,
            "object_position": null,
            "order": null,
            "overflow": null,
            "overflow_x": null,
            "overflow_y": null,
            "padding": null,
            "right": null,
            "top": null,
            "visibility": null,
            "width": null
          }
        },
        "69a4eadc4710412da1d1aa8d74684978": {
          "model_module": "@jupyter-widgets/controls",
          "model_name": "DescriptionStyleModel",
          "model_module_version": "1.5.0",
          "state": {
            "_model_module": "@jupyter-widgets/controls",
            "_model_module_version": "1.5.0",
            "_model_name": "DescriptionStyleModel",
            "_view_count": null,
            "_view_module": "@jupyter-widgets/base",
            "_view_module_version": "1.2.0",
            "_view_name": "StyleView",
            "description_width": ""
          }
        },
        "db541302927e4631a2ed1c377fc9ca30": {
          "model_module": "@jupyter-widgets/base",
          "model_name": "LayoutModel",
          "model_module_version": "1.2.0",
          "state": {
            "_model_module": "@jupyter-widgets/base",
            "_model_module_version": "1.2.0",
            "_model_name": "LayoutModel",
            "_view_count": null,
            "_view_module": "@jupyter-widgets/base",
            "_view_module_version": "1.2.0",
            "_view_name": "LayoutView",
            "align_content": null,
            "align_items": null,
            "align_self": null,
            "border": null,
            "bottom": null,
            "display": null,
            "flex": null,
            "flex_flow": null,
            "grid_area": null,
            "grid_auto_columns": null,
            "grid_auto_flow": null,
            "grid_auto_rows": null,
            "grid_column": null,
            "grid_gap": null,
            "grid_row": null,
            "grid_template_areas": null,
            "grid_template_columns": null,
            "grid_template_rows": null,
            "height": null,
            "justify_content": null,
            "justify_items": null,
            "left": null,
            "margin": null,
            "max_height": null,
            "max_width": null,
            "min_height": null,
            "min_width": null,
            "object_fit": null,
            "object_position": null,
            "order": null,
            "overflow": null,
            "overflow_x": null,
            "overflow_y": null,
            "padding": null,
            "right": null,
            "top": null,
            "visibility": null,
            "width": null
          }
        },
        "e7b694551ba44403941d4f8073664b70": {
          "model_module": "@jupyter-widgets/controls",
          "model_name": "ProgressStyleModel",
          "model_module_version": "1.5.0",
          "state": {
            "_model_module": "@jupyter-widgets/controls",
            "_model_module_version": "1.5.0",
            "_model_name": "ProgressStyleModel",
            "_view_count": null,
            "_view_module": "@jupyter-widgets/base",
            "_view_module_version": "1.2.0",
            "_view_name": "StyleView",
            "bar_color": null,
            "description_width": ""
          }
        },
        "368f14814cee41d8914f46215580e6c6": {
          "model_module": "@jupyter-widgets/base",
          "model_name": "LayoutModel",
          "model_module_version": "1.2.0",
          "state": {
            "_model_module": "@jupyter-widgets/base",
            "_model_module_version": "1.2.0",
            "_model_name": "LayoutModel",
            "_view_count": null,
            "_view_module": "@jupyter-widgets/base",
            "_view_module_version": "1.2.0",
            "_view_name": "LayoutView",
            "align_content": null,
            "align_items": null,
            "align_self": null,
            "border": null,
            "bottom": null,
            "display": null,
            "flex": null,
            "flex_flow": null,
            "grid_area": null,
            "grid_auto_columns": null,
            "grid_auto_flow": null,
            "grid_auto_rows": null,
            "grid_column": null,
            "grid_gap": null,
            "grid_row": null,
            "grid_template_areas": null,
            "grid_template_columns": null,
            "grid_template_rows": null,
            "height": null,
            "justify_content": null,
            "justify_items": null,
            "left": null,
            "margin": null,
            "max_height": null,
            "max_width": null,
            "min_height": null,
            "min_width": null,
            "object_fit": null,
            "object_position": null,
            "order": null,
            "overflow": null,
            "overflow_x": null,
            "overflow_y": null,
            "padding": null,
            "right": null,
            "top": null,
            "visibility": null,
            "width": null
          }
        },
        "28b818bda2eb4999af6e2892e0c39337": {
          "model_module": "@jupyter-widgets/controls",
          "model_name": "DescriptionStyleModel",
          "model_module_version": "1.5.0",
          "state": {
            "_model_module": "@jupyter-widgets/controls",
            "_model_module_version": "1.5.0",
            "_model_name": "DescriptionStyleModel",
            "_view_count": null,
            "_view_module": "@jupyter-widgets/base",
            "_view_module_version": "1.2.0",
            "_view_name": "StyleView",
            "description_width": ""
          }
        },
        "b36529309ff04be79ae442ae76c63343": {
          "model_module": "@jupyter-widgets/controls",
          "model_name": "HBoxModel",
          "model_module_version": "1.5.0",
          "state": {
            "_dom_classes": [],
            "_model_module": "@jupyter-widgets/controls",
            "_model_module_version": "1.5.0",
            "_model_name": "HBoxModel",
            "_view_count": null,
            "_view_module": "@jupyter-widgets/controls",
            "_view_module_version": "1.5.0",
            "_view_name": "HBoxView",
            "box_style": "",
            "children": [
              "IPY_MODEL_2c1db10607b54364a38a4420ba69fe5a",
              "IPY_MODEL_58409e6cbb094ad99092ae693fa3db91",
              "IPY_MODEL_bce98fd5e05d48378b753ef12b3b72fd"
            ],
            "layout": "IPY_MODEL_3243d6607aa5442b94f119775f64dc1c"
          }
        },
        "2c1db10607b54364a38a4420ba69fe5a": {
          "model_module": "@jupyter-widgets/controls",
          "model_name": "HTMLModel",
          "model_module_version": "1.5.0",
          "state": {
            "_dom_classes": [],
            "_model_module": "@jupyter-widgets/controls",
            "_model_module_version": "1.5.0",
            "_model_name": "HTMLModel",
            "_view_count": null,
            "_view_module": "@jupyter-widgets/controls",
            "_view_module_version": "1.5.0",
            "_view_name": "HTMLView",
            "description": "",
            "description_tooltip": null,
            "layout": "IPY_MODEL_ef94df3951184c95beeca989104d8555",
            "placeholder": "​",
            "style": "IPY_MODEL_9d9bb503c14547f5933a413fac2bccb9",
            "value": "tokenizer_config.json: 100%"
          }
        },
        "58409e6cbb094ad99092ae693fa3db91": {
          "model_module": "@jupyter-widgets/controls",
          "model_name": "FloatProgressModel",
          "model_module_version": "1.5.0",
          "state": {
            "_dom_classes": [],
            "_model_module": "@jupyter-widgets/controls",
            "_model_module_version": "1.5.0",
            "_model_name": "FloatProgressModel",
            "_view_count": null,
            "_view_module": "@jupyter-widgets/controls",
            "_view_module_version": "1.5.0",
            "_view_name": "ProgressView",
            "bar_style": "success",
            "description": "",
            "description_tooltip": null,
            "layout": "IPY_MODEL_74cd29132b5b44feac3c963e8a22b57b",
            "max": 2539,
            "min": 0,
            "orientation": "horizontal",
            "style": "IPY_MODEL_5e1cba3d58ad4f29b0f3cf241e8faee8",
            "value": 2539
          }
        },
        "bce98fd5e05d48378b753ef12b3b72fd": {
          "model_module": "@jupyter-widgets/controls",
          "model_name": "HTMLModel",
          "model_module_version": "1.5.0",
          "state": {
            "_dom_classes": [],
            "_model_module": "@jupyter-widgets/controls",
            "_model_module_version": "1.5.0",
            "_model_name": "HTMLModel",
            "_view_count": null,
            "_view_module": "@jupyter-widgets/controls",
            "_view_module_version": "1.5.0",
            "_view_name": "HTMLView",
            "description": "",
            "description_tooltip": null,
            "layout": "IPY_MODEL_dfd18ca6200f481a847e807b43b36d1b",
            "placeholder": "​",
            "style": "IPY_MODEL_c25572e51b654ad1b8d6ddda0c806460",
            "value": " 2.54k/2.54k [00:00&lt;00:00, 79.0kB/s]"
          }
        },
        "3243d6607aa5442b94f119775f64dc1c": {
          "model_module": "@jupyter-widgets/base",
          "model_name": "LayoutModel",
          "model_module_version": "1.2.0",
          "state": {
            "_model_module": "@jupyter-widgets/base",
            "_model_module_version": "1.2.0",
            "_model_name": "LayoutModel",
            "_view_count": null,
            "_view_module": "@jupyter-widgets/base",
            "_view_module_version": "1.2.0",
            "_view_name": "LayoutView",
            "align_content": null,
            "align_items": null,
            "align_self": null,
            "border": null,
            "bottom": null,
            "display": null,
            "flex": null,
            "flex_flow": null,
            "grid_area": null,
            "grid_auto_columns": null,
            "grid_auto_flow": null,
            "grid_auto_rows": null,
            "grid_column": null,
            "grid_gap": null,
            "grid_row": null,
            "grid_template_areas": null,
            "grid_template_columns": null,
            "grid_template_rows": null,
            "height": null,
            "justify_content": null,
            "justify_items": null,
            "left": null,
            "margin": null,
            "max_height": null,
            "max_width": null,
            "min_height": null,
            "min_width": null,
            "object_fit": null,
            "object_position": null,
            "order": null,
            "overflow": null,
            "overflow_x": null,
            "overflow_y": null,
            "padding": null,
            "right": null,
            "top": null,
            "visibility": null,
            "width": null
          }
        },
        "ef94df3951184c95beeca989104d8555": {
          "model_module": "@jupyter-widgets/base",
          "model_name": "LayoutModel",
          "model_module_version": "1.2.0",
          "state": {
            "_model_module": "@jupyter-widgets/base",
            "_model_module_version": "1.2.0",
            "_model_name": "LayoutModel",
            "_view_count": null,
            "_view_module": "@jupyter-widgets/base",
            "_view_module_version": "1.2.0",
            "_view_name": "LayoutView",
            "align_content": null,
            "align_items": null,
            "align_self": null,
            "border": null,
            "bottom": null,
            "display": null,
            "flex": null,
            "flex_flow": null,
            "grid_area": null,
            "grid_auto_columns": null,
            "grid_auto_flow": null,
            "grid_auto_rows": null,
            "grid_column": null,
            "grid_gap": null,
            "grid_row": null,
            "grid_template_areas": null,
            "grid_template_columns": null,
            "grid_template_rows": null,
            "height": null,
            "justify_content": null,
            "justify_items": null,
            "left": null,
            "margin": null,
            "max_height": null,
            "max_width": null,
            "min_height": null,
            "min_width": null,
            "object_fit": null,
            "object_position": null,
            "order": null,
            "overflow": null,
            "overflow_x": null,
            "overflow_y": null,
            "padding": null,
            "right": null,
            "top": null,
            "visibility": null,
            "width": null
          }
        },
        "9d9bb503c14547f5933a413fac2bccb9": {
          "model_module": "@jupyter-widgets/controls",
          "model_name": "DescriptionStyleModel",
          "model_module_version": "1.5.0",
          "state": {
            "_model_module": "@jupyter-widgets/controls",
            "_model_module_version": "1.5.0",
            "_model_name": "DescriptionStyleModel",
            "_view_count": null,
            "_view_module": "@jupyter-widgets/base",
            "_view_module_version": "1.2.0",
            "_view_name": "StyleView",
            "description_width": ""
          }
        },
        "74cd29132b5b44feac3c963e8a22b57b": {
          "model_module": "@jupyter-widgets/base",
          "model_name": "LayoutModel",
          "model_module_version": "1.2.0",
          "state": {
            "_model_module": "@jupyter-widgets/base",
            "_model_module_version": "1.2.0",
            "_model_name": "LayoutModel",
            "_view_count": null,
            "_view_module": "@jupyter-widgets/base",
            "_view_module_version": "1.2.0",
            "_view_name": "LayoutView",
            "align_content": null,
            "align_items": null,
            "align_self": null,
            "border": null,
            "bottom": null,
            "display": null,
            "flex": null,
            "flex_flow": null,
            "grid_area": null,
            "grid_auto_columns": null,
            "grid_auto_flow": null,
            "grid_auto_rows": null,
            "grid_column": null,
            "grid_gap": null,
            "grid_row": null,
            "grid_template_areas": null,
            "grid_template_columns": null,
            "grid_template_rows": null,
            "height": null,
            "justify_content": null,
            "justify_items": null,
            "left": null,
            "margin": null,
            "max_height": null,
            "max_width": null,
            "min_height": null,
            "min_width": null,
            "object_fit": null,
            "object_position": null,
            "order": null,
            "overflow": null,
            "overflow_x": null,
            "overflow_y": null,
            "padding": null,
            "right": null,
            "top": null,
            "visibility": null,
            "width": null
          }
        },
        "5e1cba3d58ad4f29b0f3cf241e8faee8": {
          "model_module": "@jupyter-widgets/controls",
          "model_name": "ProgressStyleModel",
          "model_module_version": "1.5.0",
          "state": {
            "_model_module": "@jupyter-widgets/controls",
            "_model_module_version": "1.5.0",
            "_model_name": "ProgressStyleModel",
            "_view_count": null,
            "_view_module": "@jupyter-widgets/base",
            "_view_module_version": "1.2.0",
            "_view_name": "StyleView",
            "bar_color": null,
            "description_width": ""
          }
        },
        "dfd18ca6200f481a847e807b43b36d1b": {
          "model_module": "@jupyter-widgets/base",
          "model_name": "LayoutModel",
          "model_module_version": "1.2.0",
          "state": {
            "_model_module": "@jupyter-widgets/base",
            "_model_module_version": "1.2.0",
            "_model_name": "LayoutModel",
            "_view_count": null,
            "_view_module": "@jupyter-widgets/base",
            "_view_module_version": "1.2.0",
            "_view_name": "LayoutView",
            "align_content": null,
            "align_items": null,
            "align_self": null,
            "border": null,
            "bottom": null,
            "display": null,
            "flex": null,
            "flex_flow": null,
            "grid_area": null,
            "grid_auto_columns": null,
            "grid_auto_flow": null,
            "grid_auto_rows": null,
            "grid_column": null,
            "grid_gap": null,
            "grid_row": null,
            "grid_template_areas": null,
            "grid_template_columns": null,
            "grid_template_rows": null,
            "height": null,
            "justify_content": null,
            "justify_items": null,
            "left": null,
            "margin": null,
            "max_height": null,
            "max_width": null,
            "min_height": null,
            "min_width": null,
            "object_fit": null,
            "object_position": null,
            "order": null,
            "overflow": null,
            "overflow_x": null,
            "overflow_y": null,
            "padding": null,
            "right": null,
            "top": null,
            "visibility": null,
            "width": null
          }
        },
        "c25572e51b654ad1b8d6ddda0c806460": {
          "model_module": "@jupyter-widgets/controls",
          "model_name": "DescriptionStyleModel",
          "model_module_version": "1.5.0",
          "state": {
            "_model_module": "@jupyter-widgets/controls",
            "_model_module_version": "1.5.0",
            "_model_name": "DescriptionStyleModel",
            "_view_count": null,
            "_view_module": "@jupyter-widgets/base",
            "_view_module_version": "1.2.0",
            "_view_name": "StyleView",
            "description_width": ""
          }
        },
        "7b9f4d1e3ee440a2b55016403b90e168": {
          "model_module": "@jupyter-widgets/controls",
          "model_name": "HBoxModel",
          "model_module_version": "1.5.0",
          "state": {
            "_dom_classes": [],
            "_model_module": "@jupyter-widgets/controls",
            "_model_module_version": "1.5.0",
            "_model_name": "HBoxModel",
            "_view_count": null,
            "_view_module": "@jupyter-widgets/controls",
            "_view_module_version": "1.5.0",
            "_view_name": "HBoxView",
            "box_style": "",
            "children": [
              "IPY_MODEL_b39858d8418d43ec80665a652a1bd2ce",
              "IPY_MODEL_901f8f461aa3493a915d0b12591f05a2",
              "IPY_MODEL_ac050e3253b544f9896703f0b536bb58"
            ],
            "layout": "IPY_MODEL_edcdf54df09346d3a5f92d30378143ce"
          }
        },
        "b39858d8418d43ec80665a652a1bd2ce": {
          "model_module": "@jupyter-widgets/controls",
          "model_name": "HTMLModel",
          "model_module_version": "1.5.0",
          "state": {
            "_dom_classes": [],
            "_model_module": "@jupyter-widgets/controls",
            "_model_module_version": "1.5.0",
            "_model_name": "HTMLModel",
            "_view_count": null,
            "_view_module": "@jupyter-widgets/controls",
            "_view_module_version": "1.5.0",
            "_view_name": "HTMLView",
            "description": "",
            "description_tooltip": null,
            "layout": "IPY_MODEL_bdcfd565ccc44c27b4e0c9e80a7d478c",
            "placeholder": "​",
            "style": "IPY_MODEL_dca57b8322a741f7b0c33770bf905ff7",
            "value": "config.json: 100%"
          }
        },
        "901f8f461aa3493a915d0b12591f05a2": {
          "model_module": "@jupyter-widgets/controls",
          "model_name": "FloatProgressModel",
          "model_module_version": "1.5.0",
          "state": {
            "_dom_classes": [],
            "_model_module": "@jupyter-widgets/controls",
            "_model_module_version": "1.5.0",
            "_model_name": "FloatProgressModel",
            "_view_count": null,
            "_view_module": "@jupyter-widgets/controls",
            "_view_module_version": "1.5.0",
            "_view_name": "ProgressView",
            "bar_style": "success",
            "description": "",
            "description_tooltip": null,
            "layout": "IPY_MODEL_879a0b101bc1470ab6fe254fbb1f0a9e",
            "max": 662,
            "min": 0,
            "orientation": "horizontal",
            "style": "IPY_MODEL_1ac2688dd1be472e95a0f3751606eea3",
            "value": 662
          }
        },
        "ac050e3253b544f9896703f0b536bb58": {
          "model_module": "@jupyter-widgets/controls",
          "model_name": "HTMLModel",
          "model_module_version": "1.5.0",
          "state": {
            "_dom_classes": [],
            "_model_module": "@jupyter-widgets/controls",
            "_model_module_version": "1.5.0",
            "_model_name": "HTMLModel",
            "_view_count": null,
            "_view_module": "@jupyter-widgets/controls",
            "_view_module_version": "1.5.0",
            "_view_name": "HTMLView",
            "description": "",
            "description_tooltip": null,
            "layout": "IPY_MODEL_feac6124b10741fc9c19627cc827e6cc",
            "placeholder": "​",
            "style": "IPY_MODEL_14bab3af728f497c83253eaef50bb2be",
            "value": " 662/662 [00:00&lt;00:00, 39.6kB/s]"
          }
        },
        "edcdf54df09346d3a5f92d30378143ce": {
          "model_module": "@jupyter-widgets/base",
          "model_name": "LayoutModel",
          "model_module_version": "1.2.0",
          "state": {
            "_model_module": "@jupyter-widgets/base",
            "_model_module_version": "1.2.0",
            "_model_name": "LayoutModel",
            "_view_count": null,
            "_view_module": "@jupyter-widgets/base",
            "_view_module_version": "1.2.0",
            "_view_name": "LayoutView",
            "align_content": null,
            "align_items": null,
            "align_self": null,
            "border": null,
            "bottom": null,
            "display": null,
            "flex": null,
            "flex_flow": null,
            "grid_area": null,
            "grid_auto_columns": null,
            "grid_auto_flow": null,
            "grid_auto_rows": null,
            "grid_column": null,
            "grid_gap": null,
            "grid_row": null,
            "grid_template_areas": null,
            "grid_template_columns": null,
            "grid_template_rows": null,
            "height": null,
            "justify_content": null,
            "justify_items": null,
            "left": null,
            "margin": null,
            "max_height": null,
            "max_width": null,
            "min_height": null,
            "min_width": null,
            "object_fit": null,
            "object_position": null,
            "order": null,
            "overflow": null,
            "overflow_x": null,
            "overflow_y": null,
            "padding": null,
            "right": null,
            "top": null,
            "visibility": null,
            "width": null
          }
        },
        "bdcfd565ccc44c27b4e0c9e80a7d478c": {
          "model_module": "@jupyter-widgets/base",
          "model_name": "LayoutModel",
          "model_module_version": "1.2.0",
          "state": {
            "_model_module": "@jupyter-widgets/base",
            "_model_module_version": "1.2.0",
            "_model_name": "LayoutModel",
            "_view_count": null,
            "_view_module": "@jupyter-widgets/base",
            "_view_module_version": "1.2.0",
            "_view_name": "LayoutView",
            "align_content": null,
            "align_items": null,
            "align_self": null,
            "border": null,
            "bottom": null,
            "display": null,
            "flex": null,
            "flex_flow": null,
            "grid_area": null,
            "grid_auto_columns": null,
            "grid_auto_flow": null,
            "grid_auto_rows": null,
            "grid_column": null,
            "grid_gap": null,
            "grid_row": null,
            "grid_template_areas": null,
            "grid_template_columns": null,
            "grid_template_rows": null,
            "height": null,
            "justify_content": null,
            "justify_items": null,
            "left": null,
            "margin": null,
            "max_height": null,
            "max_width": null,
            "min_height": null,
            "min_width": null,
            "object_fit": null,
            "object_position": null,
            "order": null,
            "overflow": null,
            "overflow_x": null,
            "overflow_y": null,
            "padding": null,
            "right": null,
            "top": null,
            "visibility": null,
            "width": null
          }
        },
        "dca57b8322a741f7b0c33770bf905ff7": {
          "model_module": "@jupyter-widgets/controls",
          "model_name": "DescriptionStyleModel",
          "model_module_version": "1.5.0",
          "state": {
            "_model_module": "@jupyter-widgets/controls",
            "_model_module_version": "1.5.0",
            "_model_name": "DescriptionStyleModel",
            "_view_count": null,
            "_view_module": "@jupyter-widgets/base",
            "_view_module_version": "1.2.0",
            "_view_name": "StyleView",
            "description_width": ""
          }
        },
        "879a0b101bc1470ab6fe254fbb1f0a9e": {
          "model_module": "@jupyter-widgets/base",
          "model_name": "LayoutModel",
          "model_module_version": "1.2.0",
          "state": {
            "_model_module": "@jupyter-widgets/base",
            "_model_module_version": "1.2.0",
            "_model_name": "LayoutModel",
            "_view_count": null,
            "_view_module": "@jupyter-widgets/base",
            "_view_module_version": "1.2.0",
            "_view_name": "LayoutView",
            "align_content": null,
            "align_items": null,
            "align_self": null,
            "border": null,
            "bottom": null,
            "display": null,
            "flex": null,
            "flex_flow": null,
            "grid_area": null,
            "grid_auto_columns": null,
            "grid_auto_flow": null,
            "grid_auto_rows": null,
            "grid_column": null,
            "grid_gap": null,
            "grid_row": null,
            "grid_template_areas": null,
            "grid_template_columns": null,
            "grid_template_rows": null,
            "height": null,
            "justify_content": null,
            "justify_items": null,
            "left": null,
            "margin": null,
            "max_height": null,
            "max_width": null,
            "min_height": null,
            "min_width": null,
            "object_fit": null,
            "object_position": null,
            "order": null,
            "overflow": null,
            "overflow_x": null,
            "overflow_y": null,
            "padding": null,
            "right": null,
            "top": null,
            "visibility": null,
            "width": null
          }
        },
        "1ac2688dd1be472e95a0f3751606eea3": {
          "model_module": "@jupyter-widgets/controls",
          "model_name": "ProgressStyleModel",
          "model_module_version": "1.5.0",
          "state": {
            "_model_module": "@jupyter-widgets/controls",
            "_model_module_version": "1.5.0",
            "_model_name": "ProgressStyleModel",
            "_view_count": null,
            "_view_module": "@jupyter-widgets/base",
            "_view_module_version": "1.2.0",
            "_view_name": "StyleView",
            "bar_color": null,
            "description_width": ""
          }
        },
        "feac6124b10741fc9c19627cc827e6cc": {
          "model_module": "@jupyter-widgets/base",
          "model_name": "LayoutModel",
          "model_module_version": "1.2.0",
          "state": {
            "_model_module": "@jupyter-widgets/base",
            "_model_module_version": "1.2.0",
            "_model_name": "LayoutModel",
            "_view_count": null,
            "_view_module": "@jupyter-widgets/base",
            "_view_module_version": "1.2.0",
            "_view_name": "LayoutView",
            "align_content": null,
            "align_items": null,
            "align_self": null,
            "border": null,
            "bottom": null,
            "display": null,
            "flex": null,
            "flex_flow": null,
            "grid_area": null,
            "grid_auto_columns": null,
            "grid_auto_flow": null,
            "grid_auto_rows": null,
            "grid_column": null,
            "grid_gap": null,
            "grid_row": null,
            "grid_template_areas": null,
            "grid_template_columns": null,
            "grid_template_rows": null,
            "height": null,
            "justify_content": null,
            "justify_items": null,
            "left": null,
            "margin": null,
            "max_height": null,
            "max_width": null,
            "min_height": null,
            "min_width": null,
            "object_fit": null,
            "object_position": null,
            "order": null,
            "overflow": null,
            "overflow_x": null,
            "overflow_y": null,
            "padding": null,
            "right": null,
            "top": null,
            "visibility": null,
            "width": null
          }
        },
        "14bab3af728f497c83253eaef50bb2be": {
          "model_module": "@jupyter-widgets/controls",
          "model_name": "DescriptionStyleModel",
          "model_module_version": "1.5.0",
          "state": {
            "_model_module": "@jupyter-widgets/controls",
            "_model_module_version": "1.5.0",
            "_model_name": "DescriptionStyleModel",
            "_view_count": null,
            "_view_module": "@jupyter-widgets/base",
            "_view_module_version": "1.2.0",
            "_view_name": "StyleView",
            "description_width": ""
          }
        },
        "20a3a978eebf45c6a2781dad97f5e358": {
          "model_module": "@jupyter-widgets/controls",
          "model_name": "HBoxModel",
          "model_module_version": "1.5.0",
          "state": {
            "_dom_classes": [],
            "_model_module": "@jupyter-widgets/controls",
            "_model_module_version": "1.5.0",
            "_model_name": "HBoxModel",
            "_view_count": null,
            "_view_module": "@jupyter-widgets/controls",
            "_view_module_version": "1.5.0",
            "_view_name": "HBoxView",
            "box_style": "",
            "children": [
              "IPY_MODEL_f1fc2b60cf72404aa20e1e371e070676",
              "IPY_MODEL_b54f698479bc41a9add65852e9679149",
              "IPY_MODEL_c743dd5a911d4cac9e6804a460d5a87e"
            ],
            "layout": "IPY_MODEL_ebc77e533f3f4a019039d4b9caf4e608"
          }
        },
        "f1fc2b60cf72404aa20e1e371e070676": {
          "model_module": "@jupyter-widgets/controls",
          "model_name": "HTMLModel",
          "model_module_version": "1.5.0",
          "state": {
            "_dom_classes": [],
            "_model_module": "@jupyter-widgets/controls",
            "_model_module_version": "1.5.0",
            "_model_name": "HTMLModel",
            "_view_count": null,
            "_view_module": "@jupyter-widgets/controls",
            "_view_module_version": "1.5.0",
            "_view_name": "HTMLView",
            "description": "",
            "description_tooltip": null,
            "layout": "IPY_MODEL_9e4e116e03434cba8896ce04e8218a92",
            "placeholder": "​",
            "style": "IPY_MODEL_550b1b3daa774adab13e8e9213d97ba2",
            "value": "model.safetensors: 100%"
          }
        },
        "b54f698479bc41a9add65852e9679149": {
          "model_module": "@jupyter-widgets/controls",
          "model_name": "FloatProgressModel",
          "model_module_version": "1.5.0",
          "state": {
            "_dom_classes": [],
            "_model_module": "@jupyter-widgets/controls",
            "_model_module_version": "1.5.0",
            "_model_name": "FloatProgressModel",
            "_view_count": null,
            "_view_module": "@jupyter-widgets/controls",
            "_view_module_version": "1.5.0",
            "_view_name": "ProgressView",
            "bar_style": "success",
            "description": "",
            "description_tooltip": null,
            "layout": "IPY_MODEL_dec117556d05477e84c8bd02fd88fdcc",
            "max": 3132668804,
            "min": 0,
            "orientation": "horizontal",
            "style": "IPY_MODEL_6dc392635b544c248d0933b318cf5a48",
            "value": 3132668804
          }
        },
        "c743dd5a911d4cac9e6804a460d5a87e": {
          "model_module": "@jupyter-widgets/controls",
          "model_name": "HTMLModel",
          "model_module_version": "1.5.0",
          "state": {
            "_dom_classes": [],
            "_model_module": "@jupyter-widgets/controls",
            "_model_module_version": "1.5.0",
            "_model_name": "HTMLModel",
            "_view_count": null,
            "_view_module": "@jupyter-widgets/controls",
            "_view_module_version": "1.5.0",
            "_view_name": "HTMLView",
            "description": "",
            "description_tooltip": null,
            "layout": "IPY_MODEL_a91adef4cd1a44d99b114c432cabce14",
            "placeholder": "​",
            "style": "IPY_MODEL_686cfae80f074820812103ec67a3e1d0",
            "value": " 3.13G/3.13G [00:30&lt;00:00, 115MB/s]"
          }
        },
        "ebc77e533f3f4a019039d4b9caf4e608": {
          "model_module": "@jupyter-widgets/base",
          "model_name": "LayoutModel",
          "model_module_version": "1.2.0",
          "state": {
            "_model_module": "@jupyter-widgets/base",
            "_model_module_version": "1.2.0",
            "_model_name": "LayoutModel",
            "_view_count": null,
            "_view_module": "@jupyter-widgets/base",
            "_view_module_version": "1.2.0",
            "_view_name": "LayoutView",
            "align_content": null,
            "align_items": null,
            "align_self": null,
            "border": null,
            "bottom": null,
            "display": null,
            "flex": null,
            "flex_flow": null,
            "grid_area": null,
            "grid_auto_columns": null,
            "grid_auto_flow": null,
            "grid_auto_rows": null,
            "grid_column": null,
            "grid_gap": null,
            "grid_row": null,
            "grid_template_areas": null,
            "grid_template_columns": null,
            "grid_template_rows": null,
            "height": null,
            "justify_content": null,
            "justify_items": null,
            "left": null,
            "margin": null,
            "max_height": null,
            "max_width": null,
            "min_height": null,
            "min_width": null,
            "object_fit": null,
            "object_position": null,
            "order": null,
            "overflow": null,
            "overflow_x": null,
            "overflow_y": null,
            "padding": null,
            "right": null,
            "top": null,
            "visibility": null,
            "width": null
          }
        },
        "9e4e116e03434cba8896ce04e8218a92": {
          "model_module": "@jupyter-widgets/base",
          "model_name": "LayoutModel",
          "model_module_version": "1.2.0",
          "state": {
            "_model_module": "@jupyter-widgets/base",
            "_model_module_version": "1.2.0",
            "_model_name": "LayoutModel",
            "_view_count": null,
            "_view_module": "@jupyter-widgets/base",
            "_view_module_version": "1.2.0",
            "_view_name": "LayoutView",
            "align_content": null,
            "align_items": null,
            "align_self": null,
            "border": null,
            "bottom": null,
            "display": null,
            "flex": null,
            "flex_flow": null,
            "grid_area": null,
            "grid_auto_columns": null,
            "grid_auto_flow": null,
            "grid_auto_rows": null,
            "grid_column": null,
            "grid_gap": null,
            "grid_row": null,
            "grid_template_areas": null,
            "grid_template_columns": null,
            "grid_template_rows": null,
            "height": null,
            "justify_content": null,
            "justify_items": null,
            "left": null,
            "margin": null,
            "max_height": null,
            "max_width": null,
            "min_height": null,
            "min_width": null,
            "object_fit": null,
            "object_position": null,
            "order": null,
            "overflow": null,
            "overflow_x": null,
            "overflow_y": null,
            "padding": null,
            "right": null,
            "top": null,
            "visibility": null,
            "width": null
          }
        },
        "550b1b3daa774adab13e8e9213d97ba2": {
          "model_module": "@jupyter-widgets/controls",
          "model_name": "DescriptionStyleModel",
          "model_module_version": "1.5.0",
          "state": {
            "_model_module": "@jupyter-widgets/controls",
            "_model_module_version": "1.5.0",
            "_model_name": "DescriptionStyleModel",
            "_view_count": null,
            "_view_module": "@jupyter-widgets/base",
            "_view_module_version": "1.2.0",
            "_view_name": "StyleView",
            "description_width": ""
          }
        },
        "dec117556d05477e84c8bd02fd88fdcc": {
          "model_module": "@jupyter-widgets/base",
          "model_name": "LayoutModel",
          "model_module_version": "1.2.0",
          "state": {
            "_model_module": "@jupyter-widgets/base",
            "_model_module_version": "1.2.0",
            "_model_name": "LayoutModel",
            "_view_count": null,
            "_view_module": "@jupyter-widgets/base",
            "_view_module_version": "1.2.0",
            "_view_name": "LayoutView",
            "align_content": null,
            "align_items": null,
            "align_self": null,
            "border": null,
            "bottom": null,
            "display": null,
            "flex": null,
            "flex_flow": null,
            "grid_area": null,
            "grid_auto_columns": null,
            "grid_auto_flow": null,
            "grid_auto_rows": null,
            "grid_column": null,
            "grid_gap": null,
            "grid_row": null,
            "grid_template_areas": null,
            "grid_template_columns": null,
            "grid_template_rows": null,
            "height": null,
            "justify_content": null,
            "justify_items": null,
            "left": null,
            "margin": null,
            "max_height": null,
            "max_width": null,
            "min_height": null,
            "min_width": null,
            "object_fit": null,
            "object_position": null,
            "order": null,
            "overflow": null,
            "overflow_x": null,
            "overflow_y": null,
            "padding": null,
            "right": null,
            "top": null,
            "visibility": null,
            "width": null
          }
        },
        "6dc392635b544c248d0933b318cf5a48": {
          "model_module": "@jupyter-widgets/controls",
          "model_name": "ProgressStyleModel",
          "model_module_version": "1.5.0",
          "state": {
            "_model_module": "@jupyter-widgets/controls",
            "_model_module_version": "1.5.0",
            "_model_name": "ProgressStyleModel",
            "_view_count": null,
            "_view_module": "@jupyter-widgets/base",
            "_view_module_version": "1.2.0",
            "_view_name": "StyleView",
            "bar_color": null,
            "description_width": ""
          }
        },
        "a91adef4cd1a44d99b114c432cabce14": {
          "model_module": "@jupyter-widgets/base",
          "model_name": "LayoutModel",
          "model_module_version": "1.2.0",
          "state": {
            "_model_module": "@jupyter-widgets/base",
            "_model_module_version": "1.2.0",
            "_model_name": "LayoutModel",
            "_view_count": null,
            "_view_module": "@jupyter-widgets/base",
            "_view_module_version": "1.2.0",
            "_view_name": "LayoutView",
            "align_content": null,
            "align_items": null,
            "align_self": null,
            "border": null,
            "bottom": null,
            "display": null,
            "flex": null,
            "flex_flow": null,
            "grid_area": null,
            "grid_auto_columns": null,
            "grid_auto_flow": null,
            "grid_auto_rows": null,
            "grid_column": null,
            "grid_gap": null,
            "grid_row": null,
            "grid_template_areas": null,
            "grid_template_columns": null,
            "grid_template_rows": null,
            "height": null,
            "justify_content": null,
            "justify_items": null,
            "left": null,
            "margin": null,
            "max_height": null,
            "max_width": null,
            "min_height": null,
            "min_width": null,
            "object_fit": null,
            "object_position": null,
            "order": null,
            "overflow": null,
            "overflow_x": null,
            "overflow_y": null,
            "padding": null,
            "right": null,
            "top": null,
            "visibility": null,
            "width": null
          }
        },
        "686cfae80f074820812103ec67a3e1d0": {
          "model_module": "@jupyter-widgets/controls",
          "model_name": "DescriptionStyleModel",
          "model_module_version": "1.5.0",
          "state": {
            "_model_module": "@jupyter-widgets/controls",
            "_model_module_version": "1.5.0",
            "_model_name": "DescriptionStyleModel",
            "_view_count": null,
            "_view_module": "@jupyter-widgets/base",
            "_view_module_version": "1.2.0",
            "_view_name": "StyleView",
            "description_width": ""
          }
        },
        "d6ddb855f0c64aa58d6c3a19b01117bf": {
          "model_module": "@jupyter-widgets/controls",
          "model_name": "HBoxModel",
          "model_module_version": "1.5.0",
          "state": {
            "_dom_classes": [],
            "_model_module": "@jupyter-widgets/controls",
            "_model_module_version": "1.5.0",
            "_model_name": "HBoxModel",
            "_view_count": null,
            "_view_module": "@jupyter-widgets/controls",
            "_view_module_version": "1.5.0",
            "_view_name": "HBoxView",
            "box_style": "",
            "children": [
              "IPY_MODEL_621443b8e9734e4e850f24eb8f143391",
              "IPY_MODEL_f1de002fb1594d23b5eb9101e21a68fa",
              "IPY_MODEL_a9ce46784aa34887a049945dc67176fc"
            ],
            "layout": "IPY_MODEL_91d35a8e1db9499cac94fc3f2df684c1"
          }
        },
        "621443b8e9734e4e850f24eb8f143391": {
          "model_module": "@jupyter-widgets/controls",
          "model_name": "HTMLModel",
          "model_module_version": "1.5.0",
          "state": {
            "_dom_classes": [],
            "_model_module": "@jupyter-widgets/controls",
            "_model_module_version": "1.5.0",
            "_model_name": "HTMLModel",
            "_view_count": null,
            "_view_module": "@jupyter-widgets/controls",
            "_view_module_version": "1.5.0",
            "_view_name": "HTMLView",
            "description": "",
            "description_tooltip": null,
            "layout": "IPY_MODEL_efb9cf11e9aa47b8b080ad08abbef715",
            "placeholder": "​",
            "style": "IPY_MODEL_ab4be75376a74549be242255a8b394db",
            "value": "generation_config.json: 100%"
          }
        },
        "f1de002fb1594d23b5eb9101e21a68fa": {
          "model_module": "@jupyter-widgets/controls",
          "model_name": "FloatProgressModel",
          "model_module_version": "1.5.0",
          "state": {
            "_dom_classes": [],
            "_model_module": "@jupyter-widgets/controls",
            "_model_module_version": "1.5.0",
            "_model_name": "FloatProgressModel",
            "_view_count": null,
            "_view_module": "@jupyter-widgets/controls",
            "_view_module_version": "1.5.0",
            "_view_name": "ProgressView",
            "bar_style": "success",
            "description": "",
            "description_tooltip": null,
            "layout": "IPY_MODEL_801b4f38cdfc4d87b72bdc593d2f3db0",
            "max": 147,
            "min": 0,
            "orientation": "horizontal",
            "style": "IPY_MODEL_e98973077406426bb9e851373c9dcc2b",
            "value": 147
          }
        },
        "a9ce46784aa34887a049945dc67176fc": {
          "model_module": "@jupyter-widgets/controls",
          "model_name": "HTMLModel",
          "model_module_version": "1.5.0",
          "state": {
            "_dom_classes": [],
            "_model_module": "@jupyter-widgets/controls",
            "_model_module_version": "1.5.0",
            "_model_name": "HTMLModel",
            "_view_count": null,
            "_view_module": "@jupyter-widgets/controls",
            "_view_module_version": "1.5.0",
            "_view_name": "HTMLView",
            "description": "",
            "description_tooltip": null,
            "layout": "IPY_MODEL_7b48297de4164527a0e2b5feed13b9f5",
            "placeholder": "​",
            "style": "IPY_MODEL_0e3b66b85e9e4e789aee5c3cc5cbce55",
            "value": " 147/147 [00:00&lt;00:00, 7.65kB/s]"
          }
        },
        "91d35a8e1db9499cac94fc3f2df684c1": {
          "model_module": "@jupyter-widgets/base",
          "model_name": "LayoutModel",
          "model_module_version": "1.2.0",
          "state": {
            "_model_module": "@jupyter-widgets/base",
            "_model_module_version": "1.2.0",
            "_model_name": "LayoutModel",
            "_view_count": null,
            "_view_module": "@jupyter-widgets/base",
            "_view_module_version": "1.2.0",
            "_view_name": "LayoutView",
            "align_content": null,
            "align_items": null,
            "align_self": null,
            "border": null,
            "bottom": null,
            "display": null,
            "flex": null,
            "flex_flow": null,
            "grid_area": null,
            "grid_auto_columns": null,
            "grid_auto_flow": null,
            "grid_auto_rows": null,
            "grid_column": null,
            "grid_gap": null,
            "grid_row": null,
            "grid_template_areas": null,
            "grid_template_columns": null,
            "grid_template_rows": null,
            "height": null,
            "justify_content": null,
            "justify_items": null,
            "left": null,
            "margin": null,
            "max_height": null,
            "max_width": null,
            "min_height": null,
            "min_width": null,
            "object_fit": null,
            "object_position": null,
            "order": null,
            "overflow": null,
            "overflow_x": null,
            "overflow_y": null,
            "padding": null,
            "right": null,
            "top": null,
            "visibility": null,
            "width": null
          }
        },
        "efb9cf11e9aa47b8b080ad08abbef715": {
          "model_module": "@jupyter-widgets/base",
          "model_name": "LayoutModel",
          "model_module_version": "1.2.0",
          "state": {
            "_model_module": "@jupyter-widgets/base",
            "_model_module_version": "1.2.0",
            "_model_name": "LayoutModel",
            "_view_count": null,
            "_view_module": "@jupyter-widgets/base",
            "_view_module_version": "1.2.0",
            "_view_name": "LayoutView",
            "align_content": null,
            "align_items": null,
            "align_self": null,
            "border": null,
            "bottom": null,
            "display": null,
            "flex": null,
            "flex_flow": null,
            "grid_area": null,
            "grid_auto_columns": null,
            "grid_auto_flow": null,
            "grid_auto_rows": null,
            "grid_column": null,
            "grid_gap": null,
            "grid_row": null,
            "grid_template_areas": null,
            "grid_template_columns": null,
            "grid_template_rows": null,
            "height": null,
            "justify_content": null,
            "justify_items": null,
            "left": null,
            "margin": null,
            "max_height": null,
            "max_width": null,
            "min_height": null,
            "min_width": null,
            "object_fit": null,
            "object_position": null,
            "order": null,
            "overflow": null,
            "overflow_x": null,
            "overflow_y": null,
            "padding": null,
            "right": null,
            "top": null,
            "visibility": null,
            "width": null
          }
        },
        "ab4be75376a74549be242255a8b394db": {
          "model_module": "@jupyter-widgets/controls",
          "model_name": "DescriptionStyleModel",
          "model_module_version": "1.5.0",
          "state": {
            "_model_module": "@jupyter-widgets/controls",
            "_model_module_version": "1.5.0",
            "_model_name": "DescriptionStyleModel",
            "_view_count": null,
            "_view_module": "@jupyter-widgets/base",
            "_view_module_version": "1.2.0",
            "_view_name": "StyleView",
            "description_width": ""
          }
        },
        "801b4f38cdfc4d87b72bdc593d2f3db0": {
          "model_module": "@jupyter-widgets/base",
          "model_name": "LayoutModel",
          "model_module_version": "1.2.0",
          "state": {
            "_model_module": "@jupyter-widgets/base",
            "_model_module_version": "1.2.0",
            "_model_name": "LayoutModel",
            "_view_count": null,
            "_view_module": "@jupyter-widgets/base",
            "_view_module_version": "1.2.0",
            "_view_name": "LayoutView",
            "align_content": null,
            "align_items": null,
            "align_self": null,
            "border": null,
            "bottom": null,
            "display": null,
            "flex": null,
            "flex_flow": null,
            "grid_area": null,
            "grid_auto_columns": null,
            "grid_auto_flow": null,
            "grid_auto_rows": null,
            "grid_column": null,
            "grid_gap": null,
            "grid_row": null,
            "grid_template_areas": null,
            "grid_template_columns": null,
            "grid_template_rows": null,
            "height": null,
            "justify_content": null,
            "justify_items": null,
            "left": null,
            "margin": null,
            "max_height": null,
            "max_width": null,
            "min_height": null,
            "min_width": null,
            "object_fit": null,
            "object_position": null,
            "order": null,
            "overflow": null,
            "overflow_x": null,
            "overflow_y": null,
            "padding": null,
            "right": null,
            "top": null,
            "visibility": null,
            "width": null
          }
        },
        "e98973077406426bb9e851373c9dcc2b": {
          "model_module": "@jupyter-widgets/controls",
          "model_name": "ProgressStyleModel",
          "model_module_version": "1.5.0",
          "state": {
            "_model_module": "@jupyter-widgets/controls",
            "_model_module_version": "1.5.0",
            "_model_name": "ProgressStyleModel",
            "_view_count": null,
            "_view_module": "@jupyter-widgets/base",
            "_view_module_version": "1.2.0",
            "_view_name": "StyleView",
            "bar_color": null,
            "description_width": ""
          }
        },
        "7b48297de4164527a0e2b5feed13b9f5": {
          "model_module": "@jupyter-widgets/base",
          "model_name": "LayoutModel",
          "model_module_version": "1.2.0",
          "state": {
            "_model_module": "@jupyter-widgets/base",
            "_model_module_version": "1.2.0",
            "_model_name": "LayoutModel",
            "_view_count": null,
            "_view_module": "@jupyter-widgets/base",
            "_view_module_version": "1.2.0",
            "_view_name": "LayoutView",
            "align_content": null,
            "align_items": null,
            "align_self": null,
            "border": null,
            "bottom": null,
            "display": null,
            "flex": null,
            "flex_flow": null,
            "grid_area": null,
            "grid_auto_columns": null,
            "grid_auto_flow": null,
            "grid_auto_rows": null,
            "grid_column": null,
            "grid_gap": null,
            "grid_row": null,
            "grid_template_areas": null,
            "grid_template_columns": null,
            "grid_template_rows": null,
            "height": null,
            "justify_content": null,
            "justify_items": null,
            "left": null,
            "margin": null,
            "max_height": null,
            "max_width": null,
            "min_height": null,
            "min_width": null,
            "object_fit": null,
            "object_position": null,
            "order": null,
            "overflow": null,
            "overflow_x": null,
            "overflow_y": null,
            "padding": null,
            "right": null,
            "top": null,
            "visibility": null,
            "width": null
          }
        },
        "0e3b66b85e9e4e789aee5c3cc5cbce55": {
          "model_module": "@jupyter-widgets/controls",
          "model_name": "DescriptionStyleModel",
          "model_module_version": "1.5.0",
          "state": {
            "_model_module": "@jupyter-widgets/controls",
            "_model_module_version": "1.5.0",
            "_model_name": "DescriptionStyleModel",
            "_view_count": null,
            "_view_module": "@jupyter-widgets/base",
            "_view_module_version": "1.2.0",
            "_view_name": "StyleView",
            "description_width": ""
          }
        }
      }
    }
  },
  "nbformat": 4,
  "nbformat_minor": 0
}